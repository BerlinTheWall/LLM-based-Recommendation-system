{
 "cells": [
  {
   "cell_type": "markdown",
   "source": [
    "### Dataset exploration"
   ],
   "metadata": {
    "collapsed": false
   }
  },
  {
   "cell_type": "code",
   "execution_count": null,
   "outputs": [],
   "source": [
    "# import numpy as np # linear algebra\n",
    "import pandas as pd # data processing, CSV file I/O (e.g. pd.read_csv)\n",
    "import torch\n",
    "# from fastai.collab import CollabDataLoaders, collab_learner\n",
    "# import torch\n",
    "# from fastai.collab import CollabFilterDataset\n",
    "# from fastai.collab import get_cv_idxs\n",
    "# from fastai.collab import CollabLearner\n",
    "# from torch import optim\n",
    "# import tensorflow as tf\n",
    "# import keras_core as keras\n",
    "# import keras_nlp\n",
    "# from sklearn.metrics import ConfusionMatrixDisplay, confusion_matrix\n",
    "# import seaborn as sns\n",
    "# import neptune.new as neptune\n",
    "# import nlpaug.augmenter.word as naw\n",
    "# from tqdm import tqdm\n",
    "# from sklearn.utils import shuffle\n",
    "# import matplotlib.pyplot as plt"
   ],
   "metadata": {
    "collapsed": false,
    "ExecuteTime": {
     "start_time": "2024-05-04T15:44:42.701752Z",
     "end_time": "2024-05-04T15:44:43.309696Z"
    },
    "pycharm": {
     "is_executing": true
    }
   }
  },
  {
   "cell_type": "code",
   "execution_count": null,
   "outputs": [],
   "source": [
    "# df_train = pd.read_csv(\"datasets/amazon-m2/products_train.csv\")\n",
    "# df_test = pd.read_csv(\"datasets/amazon-m2/sessions_train.csv\")\n",
    "# ratings = pd.read_csv(\"datasets/movieLenz-25ml/ratings.csv\")\n",
    "# ratings = pd.read_csv(\"datasets/ml-100k/ml-100k\")\n",
    "# df_test = pd.read_csv(\"datasets/movieLenz-25ml/movies.csv\")\n",
    "# print('Training Set Shape = {}'.format(ratings.shape))\n",
    "# print('Training Set Memory Usage = {:.2f} MB'.format(ratings.memory_usage().sum() / 1024**2))\n",
    "# print('Test Set Shape = {}'.format(df_test.shape))\n",
    "# print('Test Set Memory Usage = {:.2f} MB'.format(df_test.memory_usage().sum() / 1024**2))"
   ],
   "metadata": {
    "collapsed": false,
    "ExecuteTime": {
     "start_time": "2024-04-25T21:04:14.420487Z",
     "end_time": "2024-04-25T21:04:14.436008Z"
    }
   }
  },
  {
   "cell_type": "code",
   "execution_count": null,
   "outputs": [],
   "source": [
    "# ratings.head()\n"
   ],
   "metadata": {
    "collapsed": false,
    "ExecuteTime": {
     "start_time": "2024-04-25T21:04:14.436008Z",
     "end_time": "2024-04-25T21:04:14.451641Z"
    }
   }
  },
  {
   "cell_type": "code",
   "execution_count": null,
   "outputs": [],
   "source": [
    "# df_test.head()\n",
    "\n",
    "# locale_counts = df_test['locale'].value_counts()\n",
    "# print(locale_counts)\n",
    "# df_test.head()"
   ],
   "metadata": {
    "collapsed": false,
    "ExecuteTime": {
     "start_time": "2024-04-25T21:04:14.451641Z",
     "end_time": "2024-04-25T21:04:14.467265Z"
    }
   }
  },
  {
   "cell_type": "code",
   "execution_count": 4,
   "outputs": [
    {
     "ename": "NameError",
     "evalue": "name 'torch' is not defined",
     "output_type": "error",
     "traceback": [
      "\u001B[1;31m---------------------------------------------------------------------------\u001B[0m",
      "\u001B[1;31mNameError\u001B[0m                                 Traceback (most recent call last)",
      "Cell \u001B[1;32mIn[4], line 1\u001B[0m\n\u001B[1;32m----> 1\u001B[0m \u001B[43mtorch\u001B[49m\u001B[38;5;241m.\u001B[39mget_device_name(\u001B[38;5;241m0\u001B[39m)\n",
      "\u001B[1;31mNameError\u001B[0m: name 'torch' is not defined"
     ]
    }
   ],
   "source": [
    "torch.get_device_name(0)"
   ],
   "metadata": {
    "collapsed": false,
    "ExecuteTime": {
     "start_time": "2024-04-25T21:04:14.467265Z",
     "end_time": "2024-04-25T21:04:14.482891Z"
    }
   }
  },
  {
   "cell_type": "code",
   "execution_count": null,
   "outputs": [],
   "source": [
    "# # ratings = pd.read_csv('ratings_small.csv') # loading data from csv\n",
    "# \"\"\"\n",
    "# ratings_small.csv has 4 columns - userId, movieId, ratings, and timestammp\n",
    "# it is most generic data format for CF related data\n",
    "# \"\"\"\n",
    "#\n",
    "# val_indx = get_cv_idxs(len(ratings))  # index for validation set\n",
    "# wd = 2e-4 # weight decay\n",
    "# n_factors = 50 # n_factors - dimension of embedding matrix (D)\n",
    "#\n",
    "# # data loader\n",
    "# cf = CollabFilterDataset.from_csv(path, 'ratings_small.csv', 'userId', 'movieId', 'rating')\n",
    "#\n",
    "# # learner initializes model object\n",
    "# learn = cf.get_learner(n_factors, val_indx, bs=64, opt_fn=optim.Adam)\n",
    "#\n",
    "# # fitting model with 1e-2 learning rate, 2 epochs,\n",
    "# # (1 cycle length and 2 cycle multiple for learning rate scheduling)\n",
    "# learn.fit(1e-2,2, wds = wd, cycle_len=1, cycle_mult=2)"
   ],
   "metadata": {
    "collapsed": false,
    "ExecuteTime": {
     "start_time": "2024-04-25T21:04:14.482891Z",
     "end_time": "2024-04-25T21:04:14.498516Z"
    }
   }
  },
  {
   "cell_type": "code",
   "execution_count": null,
   "outputs": [],
   "source": [
    "# x = ratings.drop([‘rating’],axis=1)\n",
    "# y = ratings[‘rating’].astype(np.float32)\n",
    "# data = ColumnarModelData.from_data_frame(path, val_indx, x, y, [‘userId’, ‘movieId’], 64)"
   ],
   "metadata": {
    "collapsed": false,
    "ExecuteTime": {
     "start_time": "2024-04-25T21:04:14.498516Z",
     "end_time": "2024-04-25T21:04:14.514140Z"
    }
   }
  },
  {
   "cell_type": "code",
   "execution_count": null,
   "outputs": [],
   "source": [
    "# from torch import optim\n",
    "# from fastai.tabular.all import TabularDataLoaders\n",
    "# from fastai.collab import index\n",
    "# from fastai.collab import *\n",
    "# from fastai.metrics import"
   ],
   "metadata": {
    "collapsed": false,
    "ExecuteTime": {
     "start_time": "2024-04-25T21:04:14.514140Z",
     "end_time": "2024-04-25T21:04:14.532772Z"
    }
   }
  },
  {
   "cell_type": "code",
   "execution_count": null,
   "outputs": [],
   "source": [
    "# # x = ratings.drop(['rating'],axis=1)\n",
    "# # y = ratings['rating'].astype(np.float32)\n",
    "#\n",
    "# dls = CollabDataLoaders.from_df(ratings, bs=64)\n",
    "# dls.show_batch()\n"
   ],
   "metadata": {
    "collapsed": false,
    "ExecuteTime": {
     "start_time": "2024-04-25T21:04:14.532772Z",
     "end_time": "2024-04-25T21:04:14.545778Z"
    }
   }
  },
  {
   "cell_type": "code",
   "execution_count": null,
   "outputs": [],
   "source": [
    "# x,y = dls.one_batch()\n",
    "# model = EmbeddingDotBias(50, len(dls.classes['userId']), len(dls.classes['movieId']), y_range=(0,5)\n",
    "#                         ).to(x.device)\n",
    "# out = model(x)\n",
    "# assert (0 <= out).all() and (out <= 5).all()"
   ],
   "metadata": {
    "collapsed": false,
    "ExecuteTime": {
     "start_time": "2024-04-25T21:04:14.545778Z",
     "end_time": "2024-04-25T21:04:14.561412Z"
    }
   }
  },
  {
   "cell_type": "code",
   "execution_count": null,
   "outputs": [],
   "source": [
    "# learn = collab_learner(dls, y_range=(0,5))\n",
    "# learn.fit_one_cycle(1)\n"
   ],
   "metadata": {
    "collapsed": false,
    "ExecuteTime": {
     "start_time": "2024-04-25T21:04:14.561412Z",
     "end_time": "2024-04-25T21:04:14.577037Z"
    }
   }
  },
  {
   "cell_type": "code",
   "execution_count": null,
   "outputs": [],
   "source": [
    "# lr = 1e-2\n",
    "#\n",
    "# # Reduce the weight decay\n",
    "# wd = 0.01\n",
    "#\n",
    "# # Reduce the number of epochs\n",
    "# num_epochs = 3\n",
    "#\n",
    "# learn = collab_learner(dls, n_factors=10, y_range=(0.5, 5.5))\n",
    "# learn.fit_one_cycle(num_epochs, lr, wd=wd)"
   ],
   "metadata": {
    "collapsed": false,
    "ExecuteTime": {
     "start_time": "2024-04-25T21:04:14.577037Z",
     "end_time": "2024-04-25T21:04:14.592661Z"
    }
   }
  },
  {
   "cell_type": "code",
   "execution_count": 3,
   "outputs": [
    {
     "data": {
      "text/plain": "   user  movie  rating\n0   196    242       3\n1   186    302       3\n2    22    377       1\n3   244     51       2\n4   166    346       1",
      "text/html": "<div>\n<style scoped>\n    .dataframe tbody tr th:only-of-type {\n        vertical-align: middle;\n    }\n\n    .dataframe tbody tr th {\n        vertical-align: top;\n    }\n\n    .dataframe thead th {\n        text-align: right;\n    }\n</style>\n<table border=\"1\" class=\"dataframe\">\n  <thead>\n    <tr style=\"text-align: right;\">\n      <th></th>\n      <th>user</th>\n      <th>movie</th>\n      <th>rating</th>\n    </tr>\n  </thead>\n  <tbody>\n    <tr>\n      <th>0</th>\n      <td>196</td>\n      <td>242</td>\n      <td>3</td>\n    </tr>\n    <tr>\n      <th>1</th>\n      <td>186</td>\n      <td>302</td>\n      <td>3</td>\n    </tr>\n    <tr>\n      <th>2</th>\n      <td>22</td>\n      <td>377</td>\n      <td>1</td>\n    </tr>\n    <tr>\n      <th>3</th>\n      <td>244</td>\n      <td>51</td>\n      <td>2</td>\n    </tr>\n    <tr>\n      <th>4</th>\n      <td>166</td>\n      <td>346</td>\n      <td>1</td>\n    </tr>\n  </tbody>\n</table>\n</div>"
     },
     "execution_count": 3,
     "metadata": {},
     "output_type": "execute_result"
    }
   ],
   "source": [
    "ratings = pd.read_csv('datasets/ml-100k/ml-100k/u.data', delimiter='\\t', header=None,\n",
    "                      usecols=(0,1,2), names=['user','movie','rating'])\n",
    "ratings.head()"
   ],
   "metadata": {
    "collapsed": false,
    "ExecuteTime": {
     "start_time": "2024-05-04T15:45:33.563895Z",
     "end_time": "2024-05-04T15:45:33.640638Z"
    }
   }
  },
  {
   "cell_type": "code",
   "execution_count": null,
   "outputs": [],
   "source": [
    "movies = pd.read_csv('datasets/ml-100k/ml-100k/u.item',  delimiter='|', encoding='latin-1',\n",
    "                     usecols=(0,1), names=('movie','title'), header=None)\n",
    "movies.head()"
   ],
   "metadata": {
    "collapsed": false,
    "ExecuteTime": {
     "start_time": "2024-04-25T21:04:14.639927Z",
     "end_time": "2024-04-25T21:04:14.685537Z"
    }
   }
  },
  {
   "cell_type": "code",
   "execution_count": null,
   "outputs": [],
   "source": [
    "ratings = ratings.merge(movies)\n",
    "ratings.head()"
   ],
   "metadata": {
    "collapsed": false,
    "ExecuteTime": {
     "start_time": "2024-04-25T21:04:14.655560Z",
     "end_time": "2024-04-25T21:04:14.695206Z"
    }
   }
  },
  {
   "cell_type": "code",
   "execution_count": null,
   "outputs": [],
   "source": [
    "dls = CollabDataLoaders.from_df(ratings, item_name='title', bs=64)\n"
   ],
   "metadata": {
    "collapsed": false,
    "ExecuteTime": {
     "start_time": "2024-04-25T19:33:46.996111Z",
     "end_time": "2024-04-25T19:33:47.111828Z"
    }
   }
  },
  {
   "cell_type": "code",
   "execution_count": null,
   "outputs": [],
   "source": [
    "learn = collab_learner(dls, n_factors=50, y_range=(0, 5.5))\n",
    "learn.fit_one_cycle(5, 5e-3, wd=0.1)\n"
   ],
   "metadata": {
    "collapsed": false,
    "ExecuteTime": {
     "start_time": "2024-04-25T19:33:57.247129Z",
     "end_time": "2024-04-25T19:34:38.635508Z"
    }
   }
  },
  {
   "cell_type": "code",
   "execution_count": null,
   "outputs": [],
   "source": [
    "from torchmetrics.retrieval import RetrievalNormalizedDCG\n",
    "from torchmetrics import RetrievalMRR\n"
   ],
   "metadata": {
    "collapsed": false
   }
  },
  {
   "cell_type": "code",
   "execution_count": null,
   "outputs": [],
   "source": [
    "g = ratings.groupby('title')['rating'].count()\n",
    "top_movies = g.sort_values(ascending=False).index.values[:1000]\n",
    "top_movies[:10]"
   ],
   "metadata": {
    "collapsed": false,
    "ExecuteTime": {
     "start_time": "2024-04-25T19:35:25.973248Z",
     "end_time": "2024-04-25T19:35:26.036147Z"
    }
   }
  },
  {
   "cell_type": "code",
   "execution_count": null,
   "outputs": [],
   "source": [
    "movie_bias = learn.model.bias(top_movies, is_item=True)\n",
    "movie_bias.shape"
   ],
   "metadata": {
    "collapsed": false
   }
  },
  {
   "cell_type": "markdown",
   "source": [],
   "metadata": {
    "collapsed": false
   }
  }
 ],
 "metadata": {
  "kernelspec": {
   "display_name": "Python 3",
   "language": "python",
   "name": "python3"
  },
  "language_info": {
   "codemirror_mode": {
    "name": "ipython",
    "version": 2
   },
   "file_extension": ".py",
   "mimetype": "text/x-python",
   "name": "python",
   "nbconvert_exporter": "python",
   "pygments_lexer": "ipython2",
   "version": "2.7.6"
  }
 },
 "nbformat": 4,
 "nbformat_minor": 0
}
