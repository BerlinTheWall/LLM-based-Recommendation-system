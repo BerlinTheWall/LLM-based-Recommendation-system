{
 "cells": [
  {
   "cell_type": "code",
   "execution_count": 1,
   "metadata": {
    "collapsed": true,
    "ExecuteTime": {
     "start_time": "2024-07-27T08:09:27.600779Z",
     "end_time": "2024-07-27T08:09:49.051208Z"
    }
   },
   "outputs": [
    {
     "name": "stdout",
     "output_type": "stream",
     "text": [
      "Collecting librecommender\n",
      "  Downloading LibRecommender-1.5.1-cp310-cp310-win_amd64.whl (837 kB)\n",
      "     -------------------------------------- 837.5/837.5 kB 1.0 MB/s eta 0:00:00\n",
      "Requirement already satisfied: tqdm in d:\\anaconda\\lib\\site-packages (from librecommender) (4.66.4)\n",
      "Collecting gensim>=4.0.0\n",
      "  Downloading gensim-4.3.3-cp310-cp310-win_amd64.whl (24.0 MB)\n",
      "     ---------------------------------------- 24.0/24.0 MB 3.1 MB/s eta 0:00:00\n",
      "Requirement already satisfied: scipy<1.14.0,>=1.7.0 in d:\\anaconda\\lib\\site-packages (from gensim>=4.0.0->librecommender) (1.10.1)\n",
      "Collecting smart-open>=1.8.1\n",
      "  Downloading smart_open-7.0.4-py3-none-any.whl (61 kB)\n",
      "     ---------------------------------------- 61.2/61.2 kB 3.2 MB/s eta 0:00:00\n",
      "Requirement already satisfied: numpy<2.0,>=1.18.5 in d:\\anaconda\\lib\\site-packages (from gensim>=4.0.0->librecommender) (1.24.3)\n",
      "Requirement already satisfied: colorama in d:\\anaconda\\lib\\site-packages (from tqdm->librecommender) (0.4.6)\n",
      "Requirement already satisfied: wrapt in d:\\anaconda\\lib\\site-packages (from smart-open>=1.8.1->gensim>=4.0.0->librecommender) (1.14.1)\n",
      "Installing collected packages: smart-open, gensim, librecommender\n",
      "Successfully installed gensim-4.3.3 librecommender-1.5.1 smart-open-7.0.4\n",
      "Note: you may need to restart the kernel to use updated packages.\n"
     ]
    },
    {
     "name": "stderr",
     "output_type": "stream",
     "text": [
      "ERROR: pip's dependency resolver does not currently take into account all the packages that are installed. This behaviour is the source of the following dependency conflicts.\n",
      "weasel 0.3.4 requires smart-open<7.0.0,>=5.2.1, but you have smart-open 7.0.4 which is incompatible.\n",
      "spacy 3.7.4 requires smart-open<7.0.0,>=5.2.1, but you have smart-open 7.0.4 which is incompatible.\n",
      "fastai 2.7.14 requires torch<2.3,>=1.10, but you have torch 2.3.1 which is incompatible.\n"
     ]
    }
   ],
   "source": [
    "!pip install librecommender"
   ]
  },
  {
   "cell_type": "code",
   "execution_count": 1,
   "outputs": [
    {
     "name": "stdout",
     "output_type": "stream",
     "text": [
      "WARNING:tensorflow:From D:\\Anaconda\\lib\\site-packages\\tensorflow\\python\\compat\\v2_compat.py:107: disable_resource_variables (from tensorflow.python.ops.variable_scope) is deprecated and will be removed in a future version.\n",
      "Instructions for updating:\n",
      "non-resource variables are not supported in the long term\n"
     ]
    },
    {
     "name": "stderr",
     "output_type": "stream",
     "text": [
      "D:\\Anaconda\\lib\\site-packages\\paramiko\\transport.py:219: CryptographyDeprecationWarning: Blowfish has been deprecated\n",
      "  \"class\": algorithms.Blowfish,\n"
     ]
    }
   ],
   "source": [
    "import pandas as pd\n",
    "from libreco.data import DatasetPure\n",
    "from libreco.algorithms import ItemCF\n",
    "from libreco.evaluation import evaluate"
   ],
   "metadata": {
    "collapsed": false,
    "ExecuteTime": {
     "start_time": "2024-07-27T09:01:27.454454Z",
     "end_time": "2024-07-27T09:01:32.942241Z"
    }
   }
  },
  {
   "cell_type": "code",
   "execution_count": 2,
   "outputs": [],
   "source": [
    "train_ratings = pd.read_csv('processed_dataset/MovieLens-1M/ratings/ratings_traindata_movielens.csv')\n",
    "val_ratings = pd.read_csv('processed_dataset/MovieLens-1M/ratings/ratings_valdata_movielens.csv')\n",
    "test_ratings = pd.read_csv('processed_dataset/MovieLens-1M/ratings/ratings_testdata_movielens.csv')"
   ],
   "metadata": {
    "collapsed": false,
    "ExecuteTime": {
     "start_time": "2024-07-27T09:01:32.945242Z",
     "end_time": "2024-07-27T09:01:33.211192Z"
    }
   }
  },
  {
   "cell_type": "code",
   "execution_count": 4,
   "outputs": [],
   "source": [
    "# Rename columns to match the expected format\n",
    "train_ratings.rename(columns={'user_id': 'user', 'item_id': 'item', 'rating': 'label', 'timestamp': 'time'}, inplace=True)\n",
    "val_ratings.rename(columns={'user_id': 'user', 'item_id': 'item', 'rating': 'label', 'timestamp': 'time'}, inplace=True)\n",
    "test_ratings.rename(columns={'user_id': 'user', 'item_id': 'item', 'rating': 'label', 'timestamp': 'time'}, inplace=True)\n",
    "\n",
    "# Ensure the columns are in the correct order\n",
    "train_ratings = train_ratings[['user', 'item', 'label', 'time']]\n",
    "val_ratings = val_ratings[['user', 'item', 'label', 'time']]\n",
    "test_ratings = test_ratings[['user', 'item', 'label', 'time']]"
   ],
   "metadata": {
    "collapsed": false,
    "ExecuteTime": {
     "start_time": "2024-07-27T09:01:39.094163Z",
     "end_time": "2024-07-27T09:01:39.123680Z"
    }
   }
  },
  {
   "cell_type": "code",
   "execution_count": 5,
   "outputs": [
    {
     "name": "stdout",
     "output_type": "stream",
     "text": [
      "n_users: 6040, n_items: 3667, data density: 3.6018 %\n"
     ]
    }
   ],
   "source": [
    "train_data, data_info = DatasetPure.build_trainset(train_ratings)\n",
    "eval_data = DatasetPure.build_evalset(val_ratings)\n",
    "test_data = DatasetPure.build_testset(test_ratings)\n",
    "print(data_info)  # n_users: 5894, n_items: 3253, data sparsity: 0.4172 %"
   ],
   "metadata": {
    "collapsed": false,
    "ExecuteTime": {
     "start_time": "2024-07-27T09:01:39.416743Z",
     "end_time": "2024-07-27T09:01:40.211100Z"
    }
   }
  },
  {
   "cell_type": "code",
   "execution_count": 7,
   "outputs": [],
   "source": [
    "item_cf = ItemCF(task=\"ranking\", data_info=data_info, k_sim=100, sim_type=\"cosine\", mode='invert')"
   ],
   "metadata": {
    "collapsed": false,
    "ExecuteTime": {
     "start_time": "2024-07-27T09:02:01.435448Z",
     "end_time": "2024-07-27T09:02:01.454457Z"
    }
   }
  },
  {
   "cell_type": "code",
   "execution_count": 8,
   "outputs": [
    {
     "name": "stdout",
     "output_type": "stream",
     "text": [
      "Training start time: \u001B[35m2024-07-27 09:02:02\u001B[0m\n",
      "Final block size and num: (3667, 1)\n",
      "sim_matrix elapsed: 1.083s\n",
      "sim_matrix, shape: (3667, 3667), num_elements: 8846950, density: 65.7918 %\n"
     ]
    },
    {
     "name": "stderr",
     "output_type": "stream",
     "text": [
      "top_k: 100%|██████████| 3667/3667 [00:01<00:00, 1888.47it/s]\n",
      "eval_pointwise:   0%|          | 0/25 [00:00<?, ?it/s]"
     ]
    },
    {
     "name": "stdout",
     "output_type": "stream",
     "text": [
      "\u001B[31mDetect 1 unknown interaction(s), position: [5602]\u001B[0m\n",
      "\u001B[31mNo common interaction or similar neighbor for user 0 and item 699, proceed with default prediction\u001B[0m\n",
      "\u001B[31mNo common interaction or similar neighbor for user 0 and item 2344, proceed with default prediction\u001B[0m\n",
      "\u001B[31mNo common interaction or similar neighbor for user 0 and item 577, proceed with default prediction\u001B[0m\n",
      "\u001B[31mNo common interaction or similar neighbor for user 0 and item 91, proceed with default prediction\u001B[0m\n",
      "\u001B[31mNo common interaction or similar neighbor for user 0 and item 570, proceed with default prediction\u001B[0m\n",
      "\u001B[31mNo common interaction or similar neighbor for user 0 and item 1008, proceed with default prediction\u001B[0m\n"
     ]
    },
    {
     "name": "stderr",
     "output_type": "stream",
     "text": [
      "eval_pointwise:   4%|▍         | 1/25 [00:00<00:10,  2.20it/s]"
     ]
    },
    {
     "name": "stdout",
     "output_type": "stream",
     "text": [
      "\u001B[31mDetect 1 unknown interaction(s), position: [5320]\u001B[0m\n"
     ]
    },
    {
     "name": "stderr",
     "output_type": "stream",
     "text": [
      "eval_pointwise:   8%|▊         | 2/25 [00:00<00:10,  2.13it/s]"
     ]
    },
    {
     "name": "stdout",
     "output_type": "stream",
     "text": [
      "\u001B[31mDetect 2 unknown interaction(s), position: [6104, 4798]\u001B[0m\n"
     ]
    },
    {
     "name": "stderr",
     "output_type": "stream",
     "text": [
      "eval_pointwise:  20%|██        | 5/25 [00:02<00:10,  1.95it/s]"
     ]
    },
    {
     "name": "stdout",
     "output_type": "stream",
     "text": [
      "\u001B[31mDetect 4 unknown interaction(s), position: [7664, 3522, 7728, 7722]\u001B[0m\n"
     ]
    },
    {
     "name": "stderr",
     "output_type": "stream",
     "text": [
      "eval_pointwise:  24%|██▍       | 6/25 [00:03<00:10,  1.89it/s]"
     ]
    },
    {
     "name": "stdout",
     "output_type": "stream",
     "text": [
      "\u001B[31mDetect 1 unknown interaction(s), position: [4480]\u001B[0m\n"
     ]
    },
    {
     "name": "stderr",
     "output_type": "stream",
     "text": [
      "eval_pointwise:  32%|███▏      | 8/25 [00:04<00:08,  1.92it/s]"
     ]
    },
    {
     "name": "stdout",
     "output_type": "stream",
     "text": [
      "\u001B[31mDetect 1 unknown interaction(s), position: [6206]\u001B[0m\n"
     ]
    },
    {
     "name": "stderr",
     "output_type": "stream",
     "text": [
      "eval_pointwise:  36%|███▌      | 9/25 [00:04<00:08,  1.92it/s]"
     ]
    },
    {
     "name": "stdout",
     "output_type": "stream",
     "text": [
      "\u001B[31mDetect 1 unknown interaction(s), position: [4080]\u001B[0m\n"
     ]
    },
    {
     "name": "stderr",
     "output_type": "stream",
     "text": [
      "eval_pointwise:  48%|████▊     | 12/25 [00:05<00:06,  2.09it/s]"
     ]
    },
    {
     "name": "stdout",
     "output_type": "stream",
     "text": [
      "\u001B[31mDetect 1 unknown interaction(s), position: [1426]\u001B[0m\n"
     ]
    },
    {
     "name": "stderr",
     "output_type": "stream",
     "text": [
      "eval_pointwise:  60%|██████    | 15/25 [00:07<00:05,  1.97it/s]"
     ]
    },
    {
     "name": "stdout",
     "output_type": "stream",
     "text": [
      "\u001B[31mDetect 1 unknown interaction(s), position: [4530]\u001B[0m\n"
     ]
    },
    {
     "name": "stderr",
     "output_type": "stream",
     "text": [
      "eval_pointwise:  64%|██████▍   | 16/25 [00:08<00:04,  1.98it/s]"
     ]
    },
    {
     "name": "stdout",
     "output_type": "stream",
     "text": [
      "\u001B[31mDetect 2 unknown interaction(s), position: [8026, 7654]\u001B[0m\n"
     ]
    },
    {
     "name": "stderr",
     "output_type": "stream",
     "text": [
      "eval_pointwise:  68%|██████▊   | 17/25 [00:08<00:04,  1.97it/s]"
     ]
    },
    {
     "name": "stdout",
     "output_type": "stream",
     "text": [
      "\u001B[31mDetect 2 unknown interaction(s), position: [1280, 3058]\u001B[0m\n"
     ]
    },
    {
     "name": "stderr",
     "output_type": "stream",
     "text": [
      "eval_pointwise:  84%|████████▍ | 21/25 [00:10<00:01,  2.05it/s]"
     ]
    },
    {
     "name": "stdout",
     "output_type": "stream",
     "text": [
      "\u001B[31mDetect 1 unknown interaction(s), position: [3300]\u001B[0m\n"
     ]
    },
    {
     "name": "stderr",
     "output_type": "stream",
     "text": [
      "eval_pointwise: 100%|██████████| 25/25 [00:12<00:00,  2.06it/s]\n",
      "eval_listwise: 100%|██████████| 2997/2997 [02:01<00:00, 24.70it/s]"
     ]
    },
    {
     "name": "stdout",
     "output_type": "stream",
     "text": [
      "\t eval log_loss: 1.8914\n",
      "\t eval roc_auc: 0.7569\n",
      "\t eval precision@5: 0.0765\n",
      "\t eval recall@5: 0.0430\n",
      "\t eval ndcg@5: 0.1815\n",
      "==============================\n"
     ]
    },
    {
     "name": "stderr",
     "output_type": "stream",
     "text": [
      "\n"
     ]
    }
   ],
   "source": [
    "# Training the model\n",
    "item_cf.fit(train_data, verbose=2, eval_data=eval_data, k=5, metrics=[\"loss\", \"roc_auc\", \"precision\", \"recall\", \"ndcg\"], neg_sampling=True)"
   ],
   "metadata": {
    "collapsed": false,
    "ExecuteTime": {
     "start_time": "2024-07-27T09:02:02.447309Z",
     "end_time": "2024-07-27T09:04:19.421764Z"
    }
   }
  },
  {
   "cell_type": "code",
   "execution_count": 9,
   "outputs": [
    {
     "name": "stderr",
     "output_type": "stream",
     "text": [
      "eval_pointwise:   0%|          | 0/26 [00:00<?, ?it/s]"
     ]
    },
    {
     "name": "stdout",
     "output_type": "stream",
     "text": [
      "\u001B[31mDetect 1 unknown interaction(s), position: [1344]\u001B[0m\n"
     ]
    },
    {
     "name": "stderr",
     "output_type": "stream",
     "text": [
      "eval_pointwise:   8%|▊         | 2/26 [00:00<00:11,  2.17it/s]"
     ]
    },
    {
     "name": "stdout",
     "output_type": "stream",
     "text": [
      "\u001B[31mDetect 2 unknown interaction(s), position: [1890, 812]\u001B[0m\n"
     ]
    },
    {
     "name": "stderr",
     "output_type": "stream",
     "text": [
      "eval_pointwise:  19%|█▉        | 5/26 [00:02<00:10,  2.04it/s]"
     ]
    },
    {
     "name": "stdout",
     "output_type": "stream",
     "text": [
      "\u001B[31mDetect 1 unknown interaction(s), position: [4572]\u001B[0m\n"
     ]
    },
    {
     "name": "stderr",
     "output_type": "stream",
     "text": [
      "eval_pointwise:  23%|██▎       | 6/26 [00:02<00:09,  2.03it/s]"
     ]
    },
    {
     "name": "stdout",
     "output_type": "stream",
     "text": [
      "\u001B[31mDetect 3 unknown interaction(s), position: [1016, 1362, 932]\u001B[0m\n"
     ]
    },
    {
     "name": "stderr",
     "output_type": "stream",
     "text": [
      "eval_pointwise:  27%|██▋       | 7/26 [00:03<00:09,  2.01it/s]"
     ]
    },
    {
     "name": "stdout",
     "output_type": "stream",
     "text": [
      "\u001B[31mDetect 2 unknown interaction(s), position: [4248, 5354]\u001B[0m\n"
     ]
    },
    {
     "name": "stderr",
     "output_type": "stream",
     "text": [
      "eval_pointwise:  31%|███       | 8/26 [00:03<00:08,  2.02it/s]"
     ]
    },
    {
     "name": "stdout",
     "output_type": "stream",
     "text": [
      "\u001B[31mDetect 4 unknown interaction(s), position: [1056, 8146, 796, 6824]\u001B[0m\n"
     ]
    },
    {
     "name": "stderr",
     "output_type": "stream",
     "text": [
      "eval_pointwise:  38%|███▊      | 10/26 [00:04<00:07,  2.07it/s]"
     ]
    },
    {
     "name": "stdout",
     "output_type": "stream",
     "text": [
      "\u001B[31mDetect 1 unknown interaction(s), position: [3668]\u001B[0m\n"
     ]
    },
    {
     "name": "stderr",
     "output_type": "stream",
     "text": [
      "eval_pointwise:  42%|████▏     | 11/26 [00:05<00:06,  2.15it/s]"
     ]
    },
    {
     "name": "stdout",
     "output_type": "stream",
     "text": [
      "\u001B[31mDetect 1 unknown interaction(s), position: [6100]\u001B[0m\n"
     ]
    },
    {
     "name": "stderr",
     "output_type": "stream",
     "text": [
      "eval_pointwise:  50%|█████     | 13/26 [00:06<00:06,  2.16it/s]"
     ]
    },
    {
     "name": "stdout",
     "output_type": "stream",
     "text": [
      "\u001B[31mDetect 2 unknown interaction(s), position: [2872, 4758]\u001B[0m\n"
     ]
    },
    {
     "name": "stderr",
     "output_type": "stream",
     "text": [
      "eval_pointwise:  54%|█████▍    | 14/26 [00:06<00:05,  2.13it/s]"
     ]
    },
    {
     "name": "stdout",
     "output_type": "stream",
     "text": [
      "\u001B[31mDetect 2 unknown interaction(s), position: [3552, 3450]\u001B[0m\n"
     ]
    },
    {
     "name": "stderr",
     "output_type": "stream",
     "text": [
      "eval_pointwise:  65%|██████▌   | 17/26 [00:08<00:04,  2.07it/s]"
     ]
    },
    {
     "name": "stdout",
     "output_type": "stream",
     "text": [
      "\u001B[31mDetect 9 unknown interaction(s), position: [4128, 3718, 7302, 3696, 4018, 3924, 3958, 3834, 4030]\u001B[0m\n"
     ]
    },
    {
     "name": "stderr",
     "output_type": "stream",
     "text": [
      "eval_pointwise:  73%|███████▎  | 19/26 [00:09<00:03,  2.02it/s]"
     ]
    },
    {
     "name": "stdout",
     "output_type": "stream",
     "text": [
      "\u001B[31mDetect 2 unknown interaction(s), position: [2312, 4330]\u001B[0m\n"
     ]
    },
    {
     "name": "stderr",
     "output_type": "stream",
     "text": [
      "eval_pointwise:  77%|███████▋  | 20/26 [00:09<00:02,  2.06it/s]"
     ]
    },
    {
     "name": "stdout",
     "output_type": "stream",
     "text": [
      "\u001B[31mDetect 1 unknown interaction(s), position: [862]\u001B[0m\n"
     ]
    },
    {
     "name": "stderr",
     "output_type": "stream",
     "text": [
      "eval_pointwise:  85%|████████▍ | 22/26 [00:10<00:01,  2.17it/s]"
     ]
    },
    {
     "name": "stdout",
     "output_type": "stream",
     "text": [
      "\u001B[31mDetect 2 unknown interaction(s), position: [4542, 886]\u001B[0m\n"
     ]
    },
    {
     "name": "stderr",
     "output_type": "stream",
     "text": [
      "eval_pointwise:  88%|████████▊ | 23/26 [00:11<00:01,  2.15it/s]"
     ]
    },
    {
     "name": "stdout",
     "output_type": "stream",
     "text": [
      "\u001B[31mDetect 2 unknown interaction(s), position: [4738, 4766]\u001B[0m\n"
     ]
    },
    {
     "name": "stderr",
     "output_type": "stream",
     "text": [
      "eval_pointwise:  92%|█████████▏| 24/26 [00:11<00:00,  2.15it/s]"
     ]
    },
    {
     "name": "stdout",
     "output_type": "stream",
     "text": [
      "\u001B[31mDetect 1 unknown interaction(s), position: [8184]\u001B[0m\n"
     ]
    },
    {
     "name": "stderr",
     "output_type": "stream",
     "text": [
      "eval_pointwise: 100%|██████████| 26/26 [00:12<00:00,  2.17it/s]\n",
      "eval_listwise: 100%|██████████| 3000/3000 [02:02<00:00, 24.40it/s]\n"
     ]
    },
    {
     "name": "stdout",
     "output_type": "stream",
     "text": [
      "loss: 1.9961144138330738\n",
      "roc_auc: 0.729017611866037\n",
      "precision: 0.05485\n",
      "recall: 0.056465052861735636\n",
      "ndcg: 0.1849518364464186\n"
     ]
    }
   ],
   "source": [
    "# Evaluate the model on the test data with the specified metrics\n",
    "evaluation_results = evaluate(\n",
    "    model=item_cf,\n",
    "    data=test_data,\n",
    "    neg_sampling=True,\n",
    "    metrics=[\"loss\", \"roc_auc\", \"precision\", \"recall\", \"ndcg\"]\n",
    ")\n",
    "\n",
    "# Print the evaluation results\n",
    "for metric, value in evaluation_results.items():\n",
    "    print(f\"{metric}: {value}\")"
   ],
   "metadata": {
    "collapsed": false,
    "ExecuteTime": {
     "start_time": "2024-07-27T09:04:19.441941Z",
     "end_time": "2024-07-27T09:06:34.922899Z"
    }
   }
  },
  {
   "cell_type": "code",
   "execution_count": 10,
   "outputs": [
    {
     "name": "stdout",
     "output_type": "stream",
     "text": [
      "\u001B[31mDetect 1 unknown interaction(s), position: [4]\u001B[0m\n"
     ]
    },
    {
     "name": "stderr",
     "output_type": "stream",
     "text": [
      "C:\\Users\\Hooman\\AppData\\Local\\Temp\\ipykernel_17848\\3108050799.py:17: RuntimeWarning: invalid value encountered in scalar divide\n",
      "  return hits / np.sum(y_true)\n"
     ]
    },
    {
     "name": "stdout",
     "output_type": "stream",
     "text": [
      "\u001B[31mDetect 1 unknown interaction(s), position: [95]\u001B[0m\n",
      "\u001B[31mDetect 1 unknown interaction(s), position: [10]\u001B[0m\n",
      "\u001B[31mDetect 1 unknown interaction(s), position: [60]\u001B[0m\n",
      "\u001B[31mDetect 2 unknown interaction(s), position: [12, 54]\u001B[0m\n",
      "\u001B[31mDetect 1 unknown interaction(s), position: [18]\u001B[0m\n",
      "\u001B[31mDetect 1 unknown interaction(s), position: [51]\u001B[0m\n",
      "\u001B[31mDetect 1 unknown interaction(s), position: [69]\u001B[0m\n",
      "\u001B[31mDetect 1 unknown interaction(s), position: [2]\u001B[0m\n",
      "\u001B[31mDetect 1 unknown interaction(s), position: [8]\u001B[0m\n",
      "\u001B[31mDetect 1 unknown interaction(s), position: [123]\u001B[0m\n",
      "\u001B[31mDetect 1 unknown interaction(s), position: [14]\u001B[0m\n",
      "\u001B[31mDetect 1 unknown interaction(s), position: [38]\u001B[0m\n",
      "\u001B[31mDetect 1 unknown interaction(s), position: [7]\u001B[0m\n",
      "\u001B[31mDetect 1 unknown interaction(s), position: [0]\u001B[0m\n",
      "\u001B[31mDetect 1 unknown interaction(s), position: [22]\u001B[0m\n",
      "\u001B[31mDetect 1 unknown interaction(s), position: [19]\u001B[0m\n",
      "\u001B[31mDetect 1 unknown interaction(s), position: [19]\u001B[0m\n",
      "\u001B[31mDetect 8 unknown interaction(s), position: [129, 231, 15, 176, 146, 84, 182, 26]\u001B[0m\n",
      "\u001B[31mDetect 1 unknown interaction(s), position: [75]\u001B[0m\n",
      "\u001B[31mDetect 1 unknown interaction(s), position: [41]\u001B[0m\n",
      "\u001B[31mDetect 1 unknown interaction(s), position: [1]\u001B[0m\n",
      "\u001B[31mDetect 1 unknown interaction(s), position: [37]\u001B[0m\n",
      "\u001B[31mDetect 1 unknown interaction(s), position: [15]\u001B[0m\n",
      "\u001B[31mDetect 1 unknown interaction(s), position: [70]\u001B[0m\n",
      "\u001B[31mDetect 2 unknown interaction(s), position: [35, 21]\u001B[0m\n",
      "\u001B[31mDetect 1 unknown interaction(s), position: [82]\u001B[0m\n",
      "{'NDCG@5': 0.3141897991836717, 'Recall@5': nan}\n"
     ]
    }
   ],
   "source": [
    "import numpy as np\n",
    "\n",
    "def dcg_at_k(y_true_sorted, k):\n",
    "    y_true_sorted = np.asarray(y_true_sorted)[:k]\n",
    "    return np.sum((2**y_true_sorted - 1) / np.log2(np.arange(2, len(y_true_sorted) + 2)))\n",
    "\n",
    "def ndcg_at_k(y_true, y_score, k):\n",
    "    order = np.argsort(y_score)[::-1]\n",
    "    y_true_sorted = np.take(y_true, order[:k])\n",
    "    dcg = dcg_at_k(y_true_sorted, k)\n",
    "    idcg = dcg_at_k(sorted(y_true, reverse=True), k)\n",
    "    return dcg / idcg if idcg > 0 else 0.0\n",
    "\n",
    "def recall_at_k(y_true, y_score, k):\n",
    "    top_k_items = np.argsort(y_score)[::-1][:k]\n",
    "    hits = np.sum(y_true[top_k_items])\n",
    "    return hits / np.sum(y_true)\n",
    "\n",
    "# Function to evaluate the UserCF model\n",
    "def evaluate_user_cf_model(model, test_data, k):\n",
    "    ndcg_scores = []\n",
    "    recall_scores = []\n",
    "\n",
    "    # Get unique users\n",
    "    unique_users = test_data['user'].unique()\n",
    "\n",
    "    for user in unique_users:\n",
    "        # Get items and labels for the user\n",
    "        user_data = test_data[test_data['user'] == user]\n",
    "        item_ids = user_data['item'].values\n",
    "        labels = user_data['label'].values\n",
    "\n",
    "        # Get scores for the items\n",
    "        scores = model.predict(user=user, item=item_ids)\n",
    "\n",
    "        # Calculate NDCG and Recall\n",
    "        ndcg = ndcg_at_k(labels, scores, k)\n",
    "        recall = recall_at_k(labels, scores, k)\n",
    "\n",
    "        ndcg_scores.append(ndcg)\n",
    "        recall_scores.append(recall)\n",
    "\n",
    "    avg_ndcg = np.mean(ndcg_scores)\n",
    "    avg_recall = np.mean(recall_scores)\n",
    "\n",
    "    return {\n",
    "        'NDCG@{}'.format(k): avg_ndcg,\n",
    "        'Recall@{}'.format(k): avg_recall\n",
    "    }\n",
    "\n",
    "# Evaluate the model\n",
    "eval_result = evaluate_user_cf_model(item_cf, test_ratings, k=5)\n",
    "print(eval_result)"
   ],
   "metadata": {
    "collapsed": false,
    "ExecuteTime": {
     "start_time": "2024-07-27T17:15:46.902504Z",
     "end_time": "2024-07-27T17:15:50.239092Z"
    }
   }
  },
  {
   "cell_type": "code",
   "execution_count": null,
   "outputs": [],
   "source": [],
   "metadata": {
    "collapsed": false
   }
  }
 ],
 "metadata": {
  "kernelspec": {
   "display_name": "Python 3",
   "language": "python",
   "name": "python3"
  },
  "language_info": {
   "codemirror_mode": {
    "name": "ipython",
    "version": 2
   },
   "file_extension": ".py",
   "mimetype": "text/x-python",
   "name": "python",
   "nbconvert_exporter": "python",
   "pygments_lexer": "ipython2",
   "version": "2.7.6"
  }
 },
 "nbformat": 4,
 "nbformat_minor": 0
}
