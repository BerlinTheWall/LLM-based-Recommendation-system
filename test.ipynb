{
 "cells": [
  {
   "cell_type": "code",
   "execution_count": 1,
   "outputs": [
    {
     "name": "stderr",
     "output_type": "stream",
     "text": [
      "D:\\Anaconda\\lib\\site-packages\\pandas\\core\\arrays\\masked.py:60: UserWarning: Pandas requires version '1.3.6' or newer of 'bottleneck' (version '1.3.5' currently installed).\n",
      "  from pandas.core import (\n"
     ]
    }
   ],
   "source": [
    "import pandas as pd\n",
    "import numpy as np\n",
    "import urllib.request\n",
    "import zipfile\n",
    "import os\n",
    "import json\n",
    "import requests\n",
    "import gzip\n",
    "import os"
   ],
   "metadata": {
    "collapsed": false,
    "ExecuteTime": {
     "start_time": "2024-06-11T23:11:32.408704Z",
     "end_time": "2024-06-11T23:11:32.854681Z"
    }
   }
  },
  {
   "cell_type": "code",
   "execution_count": 2,
   "outputs": [],
   "source": [
    "def read_jsonl_to_df(file_path, fields):\n",
    "    data = []\n",
    "    with open(file_path, 'r', encoding='utf-8') as file:\n",
    "        for line in file:\n",
    "            try:\n",
    "                # Parse each line as a JSON object\n",
    "                json_obj = json.loads(line.strip())\n",
    "                # Extract only the specified fields\n",
    "                filtered_obj = {field: json_obj.get(field) for field in fields}\n",
    "                data.append(filtered_obj)\n",
    "            except json.JSONDecodeError as e:\n",
    "                print(f\"Error decoding JSON: {e}\")\n",
    "                continue\n",
    "\n",
    "    # Create a DataFrame from the list of filtered JSON objects\n",
    "    df = pd.DataFrame(data)\n",
    "    return df"
   ],
   "metadata": {
    "collapsed": false,
    "ExecuteTime": {
     "start_time": "2024-06-11T23:11:33.743622Z",
     "end_time": "2024-06-11T23:11:33.758800Z"
    }
   }
  },
  {
   "cell_type": "code",
   "execution_count": 5,
   "outputs": [],
   "source": [
    "# Fields to extract\n",
    "fields = [\n",
    " 'main_category', 'title', 'average_rating',\n",
    "    'rating_number', 'features', 'description', 'price', 'images', 'videos',\n",
    "    'store', 'categories', 'details', 'parent_asin', 'bought_together'\n",
    "]\n",
    "\n",
    "# Download and decompress the file\n",
    "# decompressed_file_path = download_and_decompress(url, compressed_file_path)\n",
    "\n",
    "# Read the dataset into a DataFrame\n",
    "df  = read_jsonl_to_df('datasets/Beauty/meta_All_Beauty.jsonl/meta_All_Beauty.jsonl', fields)\n",
    "df.to_csv('amazon_beauty_reviews.csv', index=False)\n"
   ],
   "metadata": {
    "collapsed": false,
    "ExecuteTime": {
     "start_time": "2024-06-11T23:13:09.293446Z",
     "end_time": "2024-06-11T23:13:17.049274Z"
    }
   }
  },
  {
   "cell_type": "code",
   "execution_count": 6,
   "outputs": [],
   "source": [
    "# Fields to extract\n",
    "fields = [\n",
    "    'rating', 'title', 'text', 'images', 'asin', 'parent_asin',\n",
    "    'user_id', 'timestamp', 'verified_purchase', 'helpful_vote'\n",
    "]\n",
    "\n",
    "# Download and decompress the file\n",
    "# decompressed_file_path = download_and_decompress(url, compressed_file_path)\n",
    "\n",
    "# Read the dataset into a DataFrame\n",
    "df  = read_jsonl_to_df('datasets/Beauty/All_Beauty.jsonl/All_Beauty.jsonl', fields)\n",
    "df.to_csv('amazon_beauty_ratings.csv', index=False)"
   ],
   "metadata": {
    "collapsed": false,
    "ExecuteTime": {
     "start_time": "2024-06-11T23:43:42.606828Z",
     "end_time": "2024-06-11T23:43:56.025152Z"
    }
   }
  },
  {
   "cell_type": "code",
   "execution_count": 15,
   "outputs": [],
   "source": [
    "from CF_SVD import SVD_CF\n",
    "from CF_item_based import ItemBasedCF\n",
    "from dataset_processor import DatasetProcessor\n",
    "from dataset_statistics import DatasetStatistics\n",
    "import pandas as pd\n",
    "\n",
    "from evaluator import EvaluateMetrics\n",
    "\n",
    "ratings = pd.read_csv('processed_dataset/Amazon-Beauty/dataset_full_trimmed_beauty.csv')\n",
    "trainset = pd.read_csv('processed_dataset/Amazon-Beauty/dataset_train_trimmed_beauty.csv')\n",
    "testset = pd.read_csv('processed_dataset/Amazon-Beauty/dataset_test_trimmed_beauty.csv')"
   ],
   "metadata": {
    "collapsed": false
   }
  },
  {
   "cell_type": "code",
   "execution_count": 16,
   "outputs": [
    {
     "data": {
      "text/plain": "       rating                       user_id     item_id\n0         5.0  AFSKPY37N3C43SOI5IEXEK5JSIYA  B08P2DZB4X\n1         5.0  AFSKPY37N3C43SOI5IEXEK5JSIYA  B086QY6T7N\n2         3.0  AFSKPY37N3C43SOI5IEXEK5JSIYA  B08DHTJ25J\n3         5.0  AFSKPY37N3C43SOI5IEXEK5JSIYA  B07RBSLNFR\n4         3.0  AFSKPY37N3C43SOI5IEXEK5JSIYA  B07SLFWZKN\n...       ...                           ...         ...\n35619     5.0  AGCESJO2YAHFW3GKOY2JSS5QC6DA  B07NXQYVMH\n35620     5.0  AGCESJO2YAHFW3GKOY2JSS5QC6DA  B071RVQQBD\n35621     5.0  AGNEYGHRA2MM5MUN6WCZRXDSNJZA  B005P4AIZ8\n35622     2.0  AGNEYGHRA2MM5MUN6WCZRXDSNJZA  B005P49I7W\n35623     5.0  AGNEYGHRA2MM5MUN6WCZRXDSNJZA  B0080KIVH6\n\n[35624 rows x 3 columns]",
      "text/html": "<div>\n<style scoped>\n    .dataframe tbody tr th:only-of-type {\n        vertical-align: middle;\n    }\n\n    .dataframe tbody tr th {\n        vertical-align: top;\n    }\n\n    .dataframe thead th {\n        text-align: right;\n    }\n</style>\n<table border=\"1\" class=\"dataframe\">\n  <thead>\n    <tr style=\"text-align: right;\">\n      <th></th>\n      <th>rating</th>\n      <th>user_id</th>\n      <th>item_id</th>\n    </tr>\n  </thead>\n  <tbody>\n    <tr>\n      <th>0</th>\n      <td>5.0</td>\n      <td>AFSKPY37N3C43SOI5IEXEK5JSIYA</td>\n      <td>B08P2DZB4X</td>\n    </tr>\n    <tr>\n      <th>1</th>\n      <td>5.0</td>\n      <td>AFSKPY37N3C43SOI5IEXEK5JSIYA</td>\n      <td>B086QY6T7N</td>\n    </tr>\n    <tr>\n      <th>2</th>\n      <td>3.0</td>\n      <td>AFSKPY37N3C43SOI5IEXEK5JSIYA</td>\n      <td>B08DHTJ25J</td>\n    </tr>\n    <tr>\n      <th>3</th>\n      <td>5.0</td>\n      <td>AFSKPY37N3C43SOI5IEXEK5JSIYA</td>\n      <td>B07RBSLNFR</td>\n    </tr>\n    <tr>\n      <th>4</th>\n      <td>3.0</td>\n      <td>AFSKPY37N3C43SOI5IEXEK5JSIYA</td>\n      <td>B07SLFWZKN</td>\n    </tr>\n    <tr>\n      <th>...</th>\n      <td>...</td>\n      <td>...</td>\n      <td>...</td>\n    </tr>\n    <tr>\n      <th>35619</th>\n      <td>5.0</td>\n      <td>AGCESJO2YAHFW3GKOY2JSS5QC6DA</td>\n      <td>B07NXQYVMH</td>\n    </tr>\n    <tr>\n      <th>35620</th>\n      <td>5.0</td>\n      <td>AGCESJO2YAHFW3GKOY2JSS5QC6DA</td>\n      <td>B071RVQQBD</td>\n    </tr>\n    <tr>\n      <th>35621</th>\n      <td>5.0</td>\n      <td>AGNEYGHRA2MM5MUN6WCZRXDSNJZA</td>\n      <td>B005P4AIZ8</td>\n    </tr>\n    <tr>\n      <th>35622</th>\n      <td>2.0</td>\n      <td>AGNEYGHRA2MM5MUN6WCZRXDSNJZA</td>\n      <td>B005P49I7W</td>\n    </tr>\n    <tr>\n      <th>35623</th>\n      <td>5.0</td>\n      <td>AGNEYGHRA2MM5MUN6WCZRXDSNJZA</td>\n      <td>B0080KIVH6</td>\n    </tr>\n  </tbody>\n</table>\n<p>35624 rows × 3 columns</p>\n</div>"
     },
     "execution_count": 16,
     "metadata": {},
     "output_type": "execute_result"
    }
   ],
   "source": [
    "ratings"
   ],
   "metadata": {
    "collapsed": false
   }
  },
  {
   "cell_type": "code",
   "execution_count": 5,
   "outputs": [],
   "source": [
    "import surprise\n",
    "from surprise import Dataset, Reader, SVD, accuracy\n",
    "from surprise.model_selection import train_test_split"
   ],
   "metadata": {
    "collapsed": false
   }
  },
  {
   "cell_type": "code",
   "execution_count": 17,
   "outputs": [],
   "source": [
    "# reader = Reader(rating_scale=(1, 5))\n",
    "reader = Reader(rating_scale=(ratings['rating'].min(), ratings['rating'].max()))\n",
    "data = Dataset.load_from_df(ratings[['user_id', 'item_id', 'rating']], reader)"
   ],
   "metadata": {
    "collapsed": false
   }
  },
  {
   "cell_type": "code",
   "execution_count": 18,
   "outputs": [],
   "source": [
    "train_data = Dataset.load_from_df(trainset[['user_id', 'item_id', 'rating']], reader)\n",
    "trainset = train_data.build_full_trainset()"
   ],
   "metadata": {
    "collapsed": false,
    "ExecuteTime": {
     "start_time": "2024-06-09T22:13:59.526948Z",
     "end_time": "2024-06-09T22:13:59.561079Z"
    }
   }
  },
  {
   "cell_type": "code",
   "execution_count": 19,
   "outputs": [],
   "source": [
    "test_data = Dataset.load_from_df(testset[['user_id', 'item_id', 'rating']], reader)\n",
    "testing_set = test_data.build_full_trainset()"
   ],
   "metadata": {
    "collapsed": false
   }
  },
  {
   "cell_type": "code",
   "execution_count": 20,
   "outputs": [
    {
     "data": {
      "text/plain": "<surprise.prediction_algorithms.matrix_factorization.SVD at 0x1f4664c89a0>"
     },
     "execution_count": 20,
     "metadata": {},
     "output_type": "execute_result"
    }
   ],
   "source": [
    "algo = SVD()\n",
    "\n",
    "algo.fit(trainset)"
   ],
   "metadata": {
    "collapsed": false,
    "ExecuteTime": {
     "start_time": "2024-06-09T22:14:01.135869Z",
     "end_time": "2024-06-09T22:14:01.602458Z"
    }
   }
  },
  {
   "cell_type": "code",
   "execution_count": 22,
   "outputs": [
    {
     "ename": "MemoryError",
     "evalue": "",
     "output_type": "error",
     "traceback": [
      "\u001B[1;31m---------------------------------------------------------------------------\u001B[0m",
      "\u001B[1;31mMemoryError\u001B[0m                               Traceback (most recent call last)",
      "Cell \u001B[1;32mIn[22], line 1\u001B[0m\n\u001B[1;32m----> 1\u001B[0m temp \u001B[38;5;241m=\u001B[39m \u001B[43mtrainset\u001B[49m\u001B[38;5;241;43m.\u001B[39;49m\u001B[43mbuild_anti_testset\u001B[49m\u001B[43m(\u001B[49m\u001B[43m)\u001B[49m\n",
      "File \u001B[1;32mD:\\Anaconda\\lib\\site-packages\\surprise\\trainset.py:237\u001B[0m, in \u001B[0;36mTrainset.build_anti_testset\u001B[1;34m(self, fill)\u001B[0m\n\u001B[0;32m    235\u001B[0m \u001B[38;5;28;01mfor\u001B[39;00m u \u001B[38;5;129;01min\u001B[39;00m \u001B[38;5;28mself\u001B[39m\u001B[38;5;241m.\u001B[39mall_users():\n\u001B[0;32m    236\u001B[0m     user_items \u001B[38;5;241m=\u001B[39m {j \u001B[38;5;28;01mfor\u001B[39;00m (j, _) \u001B[38;5;129;01min\u001B[39;00m \u001B[38;5;28mself\u001B[39m\u001B[38;5;241m.\u001B[39mur[u]}\n\u001B[1;32m--> 237\u001B[0m     anti_testset \u001B[38;5;241m+\u001B[39m\u001B[38;5;241m=\u001B[39m [\n\u001B[0;32m    238\u001B[0m         (\u001B[38;5;28mself\u001B[39m\u001B[38;5;241m.\u001B[39mto_raw_uid(u), \u001B[38;5;28mself\u001B[39m\u001B[38;5;241m.\u001B[39mto_raw_iid(i), fill)\n\u001B[0;32m    239\u001B[0m         \u001B[38;5;28;01mfor\u001B[39;00m i \u001B[38;5;129;01min\u001B[39;00m \u001B[38;5;28mself\u001B[39m\u001B[38;5;241m.\u001B[39mall_items()\n\u001B[0;32m    240\u001B[0m         \u001B[38;5;28;01mif\u001B[39;00m i \u001B[38;5;129;01mnot\u001B[39;00m \u001B[38;5;129;01min\u001B[39;00m user_items\n\u001B[0;32m    241\u001B[0m     ]\n\u001B[0;32m    242\u001B[0m \u001B[38;5;28;01mreturn\u001B[39;00m anti_testset\n",
      "\u001B[1;31mMemoryError\u001B[0m: "
     ]
    }
   ],
   "source": [
    "temp = trainset.build_anti_testset()"
   ],
   "metadata": {
    "collapsed": false
   }
  },
  {
   "cell_type": "code",
   "execution_count": null,
   "outputs": [],
   "source": [
    "predictions = algo.test(testing_set.build_anti_testset())"
   ],
   "metadata": {
    "collapsed": false
   }
  },
  {
   "cell_type": "code",
   "execution_count": 3,
   "outputs": [],
   "source": [
    "svd = SVD_CF(train_df=trainset, full_df=data)\n",
    "svd.fit()\n",
    "svd.predict()\n",
    "# predictions = svd.model.test(trainset.build_anti_testset())\n",
    "recommendations = svd.generate_recommendations(k=5)\n",
    "# print(recommendations)"
   ],
   "metadata": {
    "collapsed": false,
    "ExecuteTime": {
     "start_time": "2024-06-08T20:29:56.083410Z",
     "end_time": "2024-06-08T20:32:03.052096Z"
    }
   }
  },
  {
   "cell_type": "code",
   "execution_count": 12,
   "outputs": [
    {
     "data": {
      "text/plain": "False"
     },
     "execution_count": 12,
     "metadata": {},
     "output_type": "execute_result"
    }
   ],
   "source": [
    "isinstance(recommendations, pd.Series) or isinstance(recommendations, pd.DataFrame)\n"
   ],
   "metadata": {
    "collapsed": false,
    "ExecuteTime": {
     "start_time": "2024-06-08T19:28:10.425389Z",
     "end_time": "2024-06-08T19:28:10.441026Z"
    }
   }
  },
  {
   "cell_type": "code",
   "execution_count": 4,
   "outputs": [
    {
     "name": "stdout",
     "output_type": "stream",
     "text": [
      "hi\n",
      "5\n"
     ]
    }
   ],
   "source": [
    "k=5\n",
    "print('hi')\n",
    "evaluator = EvaluateMetrics(testset)\n",
    "results = evaluator.evaluate_recommendations(recommendations, k=5)\n",
    "# print(f\"NDCG@{k}: {results['NDCG@k']:.4f}\")\n",
    "# print(f\"MRR@{k}: {results['MRR@k']:.4f}\")\n",
    "# print(f\"HR@{k}: {results['HR@k']:.4f}\")"
   ],
   "metadata": {
    "collapsed": false,
    "ExecuteTime": {
     "start_time": "2024-06-08T20:32:03.052096Z",
     "end_time": "2024-06-08T20:32:20.191793Z"
    }
   }
  }
 ],
 "metadata": {
  "kernelspec": {
   "display_name": "Python 3",
   "language": "python",
   "name": "python3"
  },
  "language_info": {
   "codemirror_mode": {
    "name": "ipython",
    "version": 2
   },
   "file_extension": ".py",
   "mimetype": "text/x-python",
   "name": "python",
   "nbconvert_exporter": "python",
   "pygments_lexer": "ipython2",
   "version": "2.7.6"
  }
 },
 "nbformat": 4,
 "nbformat_minor": 0
}
