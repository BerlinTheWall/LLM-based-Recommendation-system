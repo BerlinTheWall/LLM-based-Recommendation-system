{
 "cells": [
  {
   "cell_type": "code",
   "execution_count": 1,
   "outputs": [
    {
     "name": "stderr",
     "output_type": "stream",
     "text": [
      "D:\\Anaconda\\lib\\site-packages\\tqdm\\auto.py:21: TqdmWarning: IProgress not found. Please update jupyter and ipywidgets. See https://ipywidgets.readthedocs.io/en/stable/user_install.html\n",
      "  from .autonotebook import tqdm as notebook_tqdm\n"
     ]
    }
   ],
   "source": [
    "import torch\n",
    "import torch.nn as nn\n",
    "import torch.optim as optim\n",
    "import pytorch_lightning as pl\n",
    "from sentence_transformers import SentenceTransformer\n",
    "from torch.utils.data import DataLoader, Dataset\n",
    "from pytorch_lightning.callbacks import Callback\n",
    "import pandas as pd\n",
    "import random\n",
    "# train_ratings = pd.read_csv('processed_dataset/MovieLens-1M/ratings/traindata_movielens.csv')\n",
    "\n",
    "# Select 100 random samples\n",
    "# train_ratings = train_ratings.sample(n=10, random_state=42)\n",
    "ratings = torch.tensor([float(random.randint(1, 5)) for _ in range(5)])\n"
   ],
   "metadata": {
    "collapsed": false,
    "ExecuteTime": {
     "start_time": "2024-07-12T18:00:50.639417Z",
     "end_time": "2024-07-12T18:01:05.194249Z"
    }
   }
  },
  {
   "cell_type": "code",
   "execution_count": 8,
   "outputs": [],
   "source": [
    "titles = [\"Inception\", \"Titanic\", \"Avatar\", \"The Matrix\", \"The Godfather\", \"Star Wars\", \"The Dark Knight\", \"Pulp Fiction\", \"Forrest Gump\", \"Jurassic Park\"]\n",
    "genres = [\"Action\", \"Drama\", \"Sci-Fi\", \"Romance\", \"Thriller\", \"Comedy\", \"Adventure\", \"Fantasy\", \"Horror\", \"Mystery\"]\n",
    "years = [\"1994\", \"1999\", \"2008\", \"2010\", \"2014\", \"2018\", \"2020\", \"1984\", \"1995\", \"2001\"]\n",
    "\n",
    "movies = []\n",
    "for _ in range(5):\n",
    "    movie = random.choice(titles)\n",
    "    genre = random.choice(genres)\n",
    "    year = random.choice(years)\n",
    "    sample = f\"title: {movie} [SEP] genre: {genre} [SEP] year: {year}\"\n",
    "    movies.append(sample)"
   ],
   "metadata": {
    "collapsed": false,
    "ExecuteTime": {
     "start_time": "2024-07-12T08:03:58.804673Z",
     "end_time": "2024-07-12T08:03:58.851558Z"
    }
   }
  },
  {
   "cell_type": "code",
   "execution_count": null,
   "outputs": [],
   "source": [
    "import random\n",
    "\n",
    "occupations = [\"doctor\", \"engineer\", \"teacher\", \"nurse\", \"writer\", \"musician\", \"artist\", \"lawyer\", \"scientist\", \"pilot\"]\n",
    "ages = [\"18-24\", \"25-34\", \"35-44\", \"45-54\", \"55-64\", \"65-74\", \"75+\"]\n",
    "genders = [\"Male\", \"Female\"]\n",
    "\n",
    "# Generate 10 random samples\n",
    "users = []\n",
    "for _ in range(5):\n",
    "    occupation = random.choice(occupations)\n",
    "    age = random.choice(ages)\n",
    "    gender = random.choice(genders)\n",
    "    sample = f\"profession: {occupation} [SEP] age range: {age} [SEP] gender: {gender}\"\n",
    "    users.append(sample)"
   ],
   "metadata": {
    "collapsed": false,
    "ExecuteTime": {
     "start_time": "2024-07-11T17:58:28.300521Z",
     "end_time": "2024-07-11T17:58:28.309026Z"
    }
   }
  },
  {
   "cell_type": "code",
   "execution_count": 2,
   "outputs": [],
   "source": [
    "device = torch.device(\"cuda\" if torch.cuda.is_available() else \"cpu\")\n",
    "# torch.cuda.get_device_name(0)"
   ],
   "metadata": {
    "collapsed": false,
    "ExecuteTime": {
     "start_time": "2024-07-12T18:01:05.200962Z",
     "end_time": "2024-07-12T18:01:05.216485Z"
    }
   }
  },
  {
   "cell_type": "code",
   "execution_count": 9,
   "outputs": [],
   "source": [
    "users = [\n",
    "    \"profession: teacher [SEP] age range: 65-74\",\n",
    "    \"profession: musician [SEP] age range: 75+\",\n",
    "    \"profession: teacher [SEP] age range: 25-55\",\n",
    "    \"profession: musician [SEP] age range: 65-74\",\n",
    "    \"profession: teacher [SEP] age range: 45-55\",\n",
    "]"
   ],
   "metadata": {
    "collapsed": false,
    "ExecuteTime": {
     "start_time": "2024-07-12T08:04:00.804396Z",
     "end_time": "2024-07-12T08:04:00.866893Z"
    }
   }
  },
  {
   "cell_type": "code",
   "execution_count": 3,
   "outputs": [],
   "source": [
    "users = pd.read_csv('processed_dataset/MovieLens-1M/users/users_movielens.csv')\n",
    "movies = pd.read_csv('processed_dataset/MovieLens-1M/movies/movies_movielens.csv')\n",
    "train_ratings = pd.read_csv('processed_dataset/MovieLens-1M/ratings/traindata_movielens.csv')\n",
    "val_ratings = pd.read_csv('processed_dataset/MovieLens-1M/ratings/valdata_movielens.csv')\n",
    "test_ratings = pd.read_csv('processed_dataset/MovieLens-1M/ratings/testdata_movielens.csv')"
   ],
   "metadata": {
    "collapsed": false,
    "ExecuteTime": {
     "start_time": "2024-07-12T18:01:05.216485Z",
     "end_time": "2024-07-12T18:01:05.467341Z"
    }
   }
  },
  {
   "cell_type": "code",
   "execution_count": 4,
   "outputs": [],
   "source": [
    "# Combine user features into a single string for each user\n",
    "users['user_features'] = 'occupation: ' + users['occupation'] + ' [SEP] age: ' + users['age'].astype(str) + ' [SEP] gender: ' + users['gender'].astype(str)\n",
    "\n",
    "# Combine movie features into a single string for each movie\n",
    "movies['movie_features'] = 'title: ' + movies['title'] + ' [SEP] genres: ' + movies['genres']"
   ],
   "metadata": {
    "collapsed": false,
    "ExecuteTime": {
     "start_time": "2024-07-12T18:01:05.467341Z",
     "end_time": "2024-07-12T18:01:05.482968Z"
    }
   }
  },
  {
   "cell_type": "code",
   "execution_count": 5,
   "outputs": [],
   "source": [
    "# Create a dictionary for fast lookup\n",
    "user_features_dict = users.set_index('user_id')['user_features'].to_dict()\n",
    "movie_features_dict = movies.set_index('item_id')['movie_features'].to_dict()\n",
    "\n",
    "# Create lists of user and item texts\n",
    "train_user_texts = [user_features_dict[userId] for userId in train_ratings['user_id']]\n",
    "train_item_texts = [movie_features_dict[movieId] for movieId in train_ratings['item_id'].unique()]\n",
    "\n",
    "# Create lists of user and item texts\n",
    "val_user_texts = [user_features_dict[userId] for userId in val_ratings['user_id']]\n",
    "val_item_texts = [movie_features_dict[movieId] for movieId in val_ratings['item_id'].unique()]\n",
    "\n",
    "train_item_id_to_idx = {movieId: idx for idx, movieId in enumerate(train_ratings['item_id'].unique())}\n",
    "val_item_id_to_idx = {movieId: idx for idx, movieId in enumerate(val_ratings['item_id'].unique())}\n",
    "test_item_id_to_idx = {movieId: idx for idx, movieId in enumerate(test_ratings['item_id'].unique())}\n",
    "\n",
    "test_item_texts = [movie_features_dict[movieId] for movieId in test_ratings['item_id'].unique()]"
   ],
   "metadata": {
    "collapsed": false,
    "ExecuteTime": {
     "start_time": "2024-07-12T18:01:05.482968Z",
     "end_time": "2024-07-12T18:01:05.624450Z"
    }
   }
  },
  {
   "cell_type": "code",
   "execution_count": 7,
   "outputs": [
    {
     "data": {
      "text/plain": "'title: Silence of the Lambs, The (1991) [SEP] genres: Drama|Thriller'"
     },
     "execution_count": 7,
     "metadata": {},
     "output_type": "execute_result"
    }
   ],
   "source": [
    "train_item_texts[0]"
   ],
   "metadata": {
    "collapsed": false,
    "ExecuteTime": {
     "start_time": "2024-07-11T22:18:26.763101Z",
     "end_time": "2024-07-11T22:18:26.789272Z"
    }
   }
  },
  {
   "cell_type": "code",
   "execution_count": 408,
   "outputs": [
    {
     "data": {
      "text/plain": "'title: Stranger, The (1994) [SEP] genres: Action'"
     },
     "execution_count": 408,
     "metadata": {},
     "output_type": "execute_result"
    }
   ],
   "source": [
    "movie_features_dict[1434]"
   ],
   "metadata": {
    "collapsed": false,
    "ExecuteTime": {
     "start_time": "2024-07-11T22:10:27.909487Z",
     "end_time": "2024-07-11T22:10:27.926004Z"
    }
   }
  },
  {
   "cell_type": "code",
   "execution_count": 45,
   "outputs": [
    {
     "data": {
      "text/plain": "'title: Godfather, The (1972) [SEP] genres: Action|Crime|Drama'"
     },
     "execution_count": 45,
     "metadata": {},
     "output_type": "execute_result"
    }
   ],
   "source": [
    "# train_item_texts[item_id_to_idx.get(train_ratings['item_id'][0])]\n",
    "item_id = 858\n",
    "text = val_item_texts[val_item_id_to_idx[item_id]] if item_id in val_item_id_to_idx else \"Item ID not found\"\n",
    "text"
   ],
   "metadata": {
    "collapsed": false,
    "ExecuteTime": {
     "start_time": "2024-07-12T08:32:09.107586Z",
     "end_time": "2024-07-12T08:32:09.139276Z"
    }
   }
  },
  {
   "cell_type": "code",
   "execution_count": 57,
   "outputs": [],
   "source": [
    "# Create a movies dataset\n",
    "movies_data = {\n",
    "    'movie_id': [1, 2, 3, 4, 5],\n",
    "    'title': ['Movie A', 'Movie B', 'Movie C', 'Movie D', 'Movie E'],\n",
    "    'genre': ['Action', 'Comedy', 'Drama', 'Horror', 'Sci-Fi']\n",
    "}\n",
    "movies_df = pd.DataFrame(movies_data)\n",
    "\n",
    "# Create a users dataset\n",
    "users_data = {\n",
    "    'user_id': [101, 102, 103, 104, 105],\n",
    "    'name': ['Alice', 'Bob', 'Charlie', 'David', 'Eva'],\n",
    "    'age': [25, 30, 35, 40, 45]\n",
    "}\n",
    "users_df = pd.DataFrame(users_data)\n",
    "from sklearn.model_selection import train_test_split\n",
    "\n",
    "# Create a ratings dataset\n",
    "ratings_data = {\n",
    "    'user_id': [101, 102, 103, 104, 105, 106, 107, 108, 109, 110],\n",
    "    'movie_id': [1, 2, 3, 4, 5, 1, 2, 3, 4, 5],\n",
    "    'rating': [4.5, 3.0, 5.0, 2.5, 4.0, 3.5, 4.0, 2.0, 5.0, 3.5]\n",
    "}\n",
    "ratings_df = pd.DataFrame(ratings_data)\n",
    "\n",
    "# Split the dataset into train, validation, and test sets\n",
    "train_df, temp_df = train_test_split(ratings_df, test_size=0.4, random_state=42)\n",
    "val_df, test_df = train_test_split(temp_df, test_size=0.5, random_state=42)\n"
   ],
   "metadata": {
    "collapsed": false,
    "ExecuteTime": {
     "start_time": "2024-07-12T18:46:03.627307Z",
     "end_time": "2024-07-12T18:46:03.705835Z"
    }
   }
  },
  {
   "cell_type": "code",
   "execution_count": 59,
   "outputs": [
    {
     "data": {
      "text/plain": "   user_id  movie_id  rating\n8      109         4     5.0\n5      106         1     3.5",
      "text/html": "<div>\n<style scoped>\n    .dataframe tbody tr th:only-of-type {\n        vertical-align: middle;\n    }\n\n    .dataframe tbody tr th {\n        vertical-align: top;\n    }\n\n    .dataframe thead th {\n        text-align: right;\n    }\n</style>\n<table border=\"1\" class=\"dataframe\">\n  <thead>\n    <tr style=\"text-align: right;\">\n      <th></th>\n      <th>user_id</th>\n      <th>movie_id</th>\n      <th>rating</th>\n    </tr>\n  </thead>\n  <tbody>\n    <tr>\n      <th>8</th>\n      <td>109</td>\n      <td>4</td>\n      <td>5.0</td>\n    </tr>\n    <tr>\n      <th>5</th>\n      <td>106</td>\n      <td>1</td>\n      <td>3.5</td>\n    </tr>\n  </tbody>\n</table>\n</div>"
     },
     "execution_count": 59,
     "metadata": {},
     "output_type": "execute_result"
    }
   ],
   "source": [
    "val_df"
   ],
   "metadata": {
    "collapsed": false,
    "ExecuteTime": {
     "start_time": "2024-07-12T18:46:26.000546Z",
     "end_time": "2024-07-12T18:46:26.016181Z"
    }
   }
  },
  {
   "cell_type": "code",
   "execution_count": 60,
   "outputs": [],
   "source": [
    "\n",
    "class UserItemDataset(Dataset):\n",
    "    def __init__(self, users, items, ratings):\n",
    "        self.users = users\n",
    "        self.items = items\n",
    "        self.ratings = ratings\n",
    "    def __len__(self):\n",
    "        return len(self.ratings)\n",
    "\n",
    "    def __getitem__(self, idx):\n",
    "        return {\n",
    "            'user': self.users[idx],\n",
    "            'item': self.items[idx],\n",
    "            'rating': self.ratings[idx]\n",
    "        }"
   ],
   "metadata": {
    "collapsed": false,
    "ExecuteTime": {
     "start_time": "2024-07-12T18:47:01.156035Z",
     "end_time": "2024-07-12T18:47:01.171223Z"
    }
   }
  },
  {
   "cell_type": "code",
   "execution_count": 7,
   "outputs": [],
   "source": [
    "data_length = len(train_user_texts)\n",
    "random_indices = random.sample(range(data_length), 10)\n",
    "\n",
    "random_user_texts = [train_user_texts[i] for i in random_indices]\n",
    "random_item_ids = [train_ratings['item_id'][i] for i in random_indices]\n",
    "random_ratings = [train_ratings['rating'][i] for i in random_indices]"
   ],
   "metadata": {
    "collapsed": false,
    "ExecuteTime": {
     "start_time": "2024-07-12T18:01:37.706399Z",
     "end_time": "2024-07-12T18:01:37.722056Z"
    }
   }
  },
  {
   "cell_type": "code",
   "execution_count": 8,
   "outputs": [],
   "source": [
    "random_indices = random.sample(range(data_length), 10)\n",
    "\n",
    "val_random_user_texts = [train_user_texts[i] for i in random_indices]\n",
    "val_random_item_ids = [train_ratings['item_id'][i] for i in random_indices]\n",
    "val_random_ratings = [train_ratings['rating'][i] for i in random_indices]"
   ],
   "metadata": {
    "collapsed": false,
    "ExecuteTime": {
     "start_time": "2024-07-12T18:01:38.361229Z",
     "end_time": "2024-07-12T18:01:38.401435Z"
    }
   }
  },
  {
   "cell_type": "code",
   "execution_count": 80,
   "outputs": [
    {
     "data": {
      "text/plain": "[3052, 233, 3208, 52, 2858, 2985, 3755, 653, 921, 2291]"
     },
     "execution_count": 80,
     "metadata": {},
     "output_type": "execute_result"
    }
   ],
   "source": [
    "random_item_ids"
   ],
   "metadata": {
    "collapsed": false,
    "ExecuteTime": {
     "start_time": "2024-07-12T08:43:22.257783Z",
     "end_time": "2024-07-12T08:43:22.273429Z"
    }
   }
  },
  {
   "cell_type": "code",
   "execution_count": 68,
   "outputs": [],
   "source": [
    "# dataset = UserItemDataset(users, movies, ratings)\n",
    "# train_dataset = UserItemDataset(random_user_texts, random_item_ids, random_ratings)\n",
    "# val_dataset = UserItemDataset(val_random_user_texts, val_random_item_ids, val_random_ratings)\n",
    "\n",
    "train_dataset = UserItemDataset(train_user_texts[:10], train_ratings['item_id'], train_ratings['rating'][:10])\n",
    "val_dataset = UserItemDataset(val_user_texts[:5], val_ratings['item_id'], val_ratings['rating'][:5])\n",
    "\n",
    "# dataset[0]"
   ],
   "metadata": {
    "collapsed": false,
    "ExecuteTime": {
     "start_time": "2024-07-12T18:52:01.774703Z",
     "end_time": "2024-07-12T18:52:01.774703Z"
    }
   }
  },
  {
   "cell_type": "code",
   "execution_count": 69,
   "outputs": [
    {
     "data": {
      "text/plain": "   user_id     name  age\n0      101    Alice   25\n1      102      Bob   30\n2      103  Charlie   35\n3      104    David   40\n4      105      Eva   45",
      "text/html": "<div>\n<style scoped>\n    .dataframe tbody tr th:only-of-type {\n        vertical-align: middle;\n    }\n\n    .dataframe tbody tr th {\n        vertical-align: top;\n    }\n\n    .dataframe thead th {\n        text-align: right;\n    }\n</style>\n<table border=\"1\" class=\"dataframe\">\n  <thead>\n    <tr style=\"text-align: right;\">\n      <th></th>\n      <th>user_id</th>\n      <th>name</th>\n      <th>age</th>\n    </tr>\n  </thead>\n  <tbody>\n    <tr>\n      <th>0</th>\n      <td>101</td>\n      <td>Alice</td>\n      <td>25</td>\n    </tr>\n    <tr>\n      <th>1</th>\n      <td>102</td>\n      <td>Bob</td>\n      <td>30</td>\n    </tr>\n    <tr>\n      <th>2</th>\n      <td>103</td>\n      <td>Charlie</td>\n      <td>35</td>\n    </tr>\n    <tr>\n      <th>3</th>\n      <td>104</td>\n      <td>David</td>\n      <td>40</td>\n    </tr>\n    <tr>\n      <th>4</th>\n      <td>105</td>\n      <td>Eva</td>\n      <td>45</td>\n    </tr>\n  </tbody>\n</table>\n</div>"
     },
     "execution_count": 69,
     "metadata": {},
     "output_type": "execute_result"
    }
   ],
   "source": [
    "users_df"
   ],
   "metadata": {
    "collapsed": false,
    "ExecuteTime": {
     "start_time": "2024-07-12T18:52:02.262473Z",
     "end_time": "2024-07-12T18:52:02.278119Z"
    }
   }
  },
  {
   "cell_type": "code",
   "execution_count": 70,
   "outputs": [
    {
     "data": {
      "text/plain": "'Alice'"
     },
     "execution_count": 70,
     "metadata": {},
     "output_type": "execute_result"
    }
   ],
   "source": [
    "train_dataset.users[0]"
   ],
   "metadata": {
    "collapsed": false,
    "ExecuteTime": {
     "start_time": "2024-07-12T18:52:02.746264Z",
     "end_time": "2024-07-12T18:52:02.760777Z"
    }
   }
  },
  {
   "cell_type": "code",
   "execution_count": 71,
   "outputs": [
    {
     "data": {
      "text/plain": "'Movie A'"
     },
     "execution_count": 71,
     "metadata": {},
     "output_type": "execute_result"
    }
   ],
   "source": [
    "train_dataset.items[0]"
   ],
   "metadata": {
    "collapsed": false,
    "ExecuteTime": {
     "start_time": "2024-07-12T18:52:03.173243Z",
     "end_time": "2024-07-12T18:52:03.220132Z"
    }
   }
  },
  {
   "cell_type": "code",
   "execution_count": 72,
   "outputs": [
    {
     "ename": "KeyError",
     "evalue": "0",
     "output_type": "error",
     "traceback": [
      "\u001B[1;31m---------------------------------------------------------------------------\u001B[0m",
      "\u001B[1;31mKeyError\u001B[0m                                  Traceback (most recent call last)",
      "File \u001B[1;32mD:\\Anaconda\\lib\\site-packages\\pandas\\core\\indexes\\base.py:3805\u001B[0m, in \u001B[0;36mIndex.get_loc\u001B[1;34m(self, key)\u001B[0m\n\u001B[0;32m   3804\u001B[0m \u001B[38;5;28;01mtry\u001B[39;00m:\n\u001B[1;32m-> 3805\u001B[0m     \u001B[38;5;28;01mreturn\u001B[39;00m \u001B[38;5;28;43mself\u001B[39;49m\u001B[38;5;241;43m.\u001B[39;49m\u001B[43m_engine\u001B[49m\u001B[38;5;241;43m.\u001B[39;49m\u001B[43mget_loc\u001B[49m\u001B[43m(\u001B[49m\u001B[43mcasted_key\u001B[49m\u001B[43m)\u001B[49m\n\u001B[0;32m   3806\u001B[0m \u001B[38;5;28;01mexcept\u001B[39;00m \u001B[38;5;167;01mKeyError\u001B[39;00m \u001B[38;5;28;01mas\u001B[39;00m err:\n",
      "File \u001B[1;32mindex.pyx:167\u001B[0m, in \u001B[0;36mpandas._libs.index.IndexEngine.get_loc\u001B[1;34m()\u001B[0m\n",
      "File \u001B[1;32mindex.pyx:196\u001B[0m, in \u001B[0;36mpandas._libs.index.IndexEngine.get_loc\u001B[1;34m()\u001B[0m\n",
      "File \u001B[1;32mpandas\\\\_libs\\\\hashtable_class_helper.pxi:2606\u001B[0m, in \u001B[0;36mpandas._libs.hashtable.Int64HashTable.get_item\u001B[1;34m()\u001B[0m\n",
      "File \u001B[1;32mpandas\\\\_libs\\\\hashtable_class_helper.pxi:2630\u001B[0m, in \u001B[0;36mpandas._libs.hashtable.Int64HashTable.get_item\u001B[1;34m()\u001B[0m\n",
      "\u001B[1;31mKeyError\u001B[0m: 0",
      "\nThe above exception was the direct cause of the following exception:\n",
      "\u001B[1;31mKeyError\u001B[0m                                  Traceback (most recent call last)",
      "Cell \u001B[1;32mIn[72], line 1\u001B[0m\n\u001B[1;32m----> 1\u001B[0m \u001B[43mtrain_dataset\u001B[49m\u001B[38;5;241;43m.\u001B[39;49m\u001B[43mratings\u001B[49m\u001B[43m[\u001B[49m\u001B[38;5;241;43m0\u001B[39;49m\u001B[43m]\u001B[49m\n",
      "File \u001B[1;32mD:\\Anaconda\\lib\\site-packages\\pandas\\core\\series.py:1121\u001B[0m, in \u001B[0;36mSeries.__getitem__\u001B[1;34m(self, key)\u001B[0m\n\u001B[0;32m   1118\u001B[0m     \u001B[38;5;28;01mreturn\u001B[39;00m \u001B[38;5;28mself\u001B[39m\u001B[38;5;241m.\u001B[39m_values[key]\n\u001B[0;32m   1120\u001B[0m \u001B[38;5;28;01melif\u001B[39;00m key_is_scalar:\n\u001B[1;32m-> 1121\u001B[0m     \u001B[38;5;28;01mreturn\u001B[39;00m \u001B[38;5;28;43mself\u001B[39;49m\u001B[38;5;241;43m.\u001B[39;49m\u001B[43m_get_value\u001B[49m\u001B[43m(\u001B[49m\u001B[43mkey\u001B[49m\u001B[43m)\u001B[49m\n\u001B[0;32m   1123\u001B[0m \u001B[38;5;66;03m# Convert generator to list before going through hashable part\u001B[39;00m\n\u001B[0;32m   1124\u001B[0m \u001B[38;5;66;03m# (We will iterate through the generator there to check for slices)\u001B[39;00m\n\u001B[0;32m   1125\u001B[0m \u001B[38;5;28;01mif\u001B[39;00m is_iterator(key):\n",
      "File \u001B[1;32mD:\\Anaconda\\lib\\site-packages\\pandas\\core\\series.py:1237\u001B[0m, in \u001B[0;36mSeries._get_value\u001B[1;34m(self, label, takeable)\u001B[0m\n\u001B[0;32m   1234\u001B[0m     \u001B[38;5;28;01mreturn\u001B[39;00m \u001B[38;5;28mself\u001B[39m\u001B[38;5;241m.\u001B[39m_values[label]\n\u001B[0;32m   1236\u001B[0m \u001B[38;5;66;03m# Similar to Index.get_value, but we do not fall back to positional\u001B[39;00m\n\u001B[1;32m-> 1237\u001B[0m loc \u001B[38;5;241m=\u001B[39m \u001B[38;5;28;43mself\u001B[39;49m\u001B[38;5;241;43m.\u001B[39;49m\u001B[43mindex\u001B[49m\u001B[38;5;241;43m.\u001B[39;49m\u001B[43mget_loc\u001B[49m\u001B[43m(\u001B[49m\u001B[43mlabel\u001B[49m\u001B[43m)\u001B[49m\n\u001B[0;32m   1239\u001B[0m \u001B[38;5;28;01mif\u001B[39;00m is_integer(loc):\n\u001B[0;32m   1240\u001B[0m     \u001B[38;5;28;01mreturn\u001B[39;00m \u001B[38;5;28mself\u001B[39m\u001B[38;5;241m.\u001B[39m_values[loc]\n",
      "File \u001B[1;32mD:\\Anaconda\\lib\\site-packages\\pandas\\core\\indexes\\base.py:3812\u001B[0m, in \u001B[0;36mIndex.get_loc\u001B[1;34m(self, key)\u001B[0m\n\u001B[0;32m   3807\u001B[0m     \u001B[38;5;28;01mif\u001B[39;00m \u001B[38;5;28misinstance\u001B[39m(casted_key, \u001B[38;5;28mslice\u001B[39m) \u001B[38;5;129;01mor\u001B[39;00m (\n\u001B[0;32m   3808\u001B[0m         \u001B[38;5;28misinstance\u001B[39m(casted_key, abc\u001B[38;5;241m.\u001B[39mIterable)\n\u001B[0;32m   3809\u001B[0m         \u001B[38;5;129;01mand\u001B[39;00m \u001B[38;5;28many\u001B[39m(\u001B[38;5;28misinstance\u001B[39m(x, \u001B[38;5;28mslice\u001B[39m) \u001B[38;5;28;01mfor\u001B[39;00m x \u001B[38;5;129;01min\u001B[39;00m casted_key)\n\u001B[0;32m   3810\u001B[0m     ):\n\u001B[0;32m   3811\u001B[0m         \u001B[38;5;28;01mraise\u001B[39;00m InvalidIndexError(key)\n\u001B[1;32m-> 3812\u001B[0m     \u001B[38;5;28;01mraise\u001B[39;00m \u001B[38;5;167;01mKeyError\u001B[39;00m(key) \u001B[38;5;28;01mfrom\u001B[39;00m \u001B[38;5;21;01merr\u001B[39;00m\n\u001B[0;32m   3813\u001B[0m \u001B[38;5;28;01mexcept\u001B[39;00m \u001B[38;5;167;01mTypeError\u001B[39;00m:\n\u001B[0;32m   3814\u001B[0m     \u001B[38;5;66;03m# If we have a listlike key, _check_indexing_error will raise\u001B[39;00m\n\u001B[0;32m   3815\u001B[0m     \u001B[38;5;66;03m#  InvalidIndexError. Otherwise we fall through and re-raise\u001B[39;00m\n\u001B[0;32m   3816\u001B[0m     \u001B[38;5;66;03m#  the TypeError.\u001B[39;00m\n\u001B[0;32m   3817\u001B[0m     \u001B[38;5;28mself\u001B[39m\u001B[38;5;241m.\u001B[39m_check_indexing_error(key)\n",
      "\u001B[1;31mKeyError\u001B[0m: 0"
     ]
    }
   ],
   "source": [
    "train_dataset.ratings[0]"
   ],
   "metadata": {
    "collapsed": false,
    "ExecuteTime": {
     "start_time": "2024-07-12T08:32:43.806264Z",
     "end_time": "2024-07-12T08:32:43.837953Z"
    }
   }
  },
  {
   "cell_type": "code",
   "execution_count": 10,
   "outputs": [
    {
     "name": "stderr",
     "output_type": "stream",
     "text": [
      "D:\\Anaconda\\lib\\site-packages\\huggingface_hub\\file_download.py:1132: FutureWarning: `resume_download` is deprecated and will be removed in version 1.0.0. Downloads always resume when possible. If you want to force a new download, use `force_download=True`.\n",
      "  warnings.warn(\n",
      "GPU available: True (cuda), used: True\n",
      "TPU available: False, using: 0 TPU cores\n",
      "HPU available: False, using: 0 HPUs\n",
      "You are using a CUDA device ('NVIDIA GeForce RTX 3060 Laptop GPU') that has Tensor Cores. To properly utilize them, you should set `torch.set_float32_matmul_precision('medium' | 'high')` which will trade-off precision for performance. For more details, read https://pytorch.org/docs/stable/generated/torch.set_float32_matmul_precision.html#torch.set_float32_matmul_precision\n",
      "LOCAL_RANK: 0 - CUDA_VISIBLE_DEVICES: [0]\n",
      "\n",
      "  | Name       | Type                | Params | Mode \n",
      "-----------------------------------------------------------\n",
      "0 | user_model | SentenceTransformer | 22.7 M | train\n",
      "1 | item_model | SentenceTransformer | 22.7 M | train\n",
      "2 | user_fc    | Linear              | 147 K  | train\n",
      "3 | item_fc    | Linear              | 147 K  | train\n",
      "4 | criterion  | MSELoss             | 0      | train\n",
      "-----------------------------------------------------------\n",
      "45.7 M    Trainable params\n",
      "0         Non-trainable params\n",
      "45.7 M    Total params\n",
      "182.888   Total estimated model params size (MB)\n",
      "D:\\Anaconda\\lib\\site-packages\\pytorch_lightning\\trainer\\connectors\\data_connector.py:424: The 'val_dataloader' does not have many workers which may be a bottleneck. Consider increasing the value of the `num_workers` argument` to `num_workers=15` in the `DataLoader` to improve performance.\n"
     ]
    },
    {
     "name": "stdout",
     "output_type": "stream",
     "text": [
      "tensor([ 906, 3639], device='cuda:0')\n"
     ]
    },
    {
     "name": "stderr",
     "output_type": "stream",
     "text": [
      "D:\\Anaconda\\lib\\site-packages\\transformers\\models\\bert\\modeling_bert.py:435: UserWarning: 1Torch was not compiled with flash attention. (Triggered internally at C:\\cb\\pytorch_1000000000000\\work\\aten\\src\\ATen\\native\\transformers\\cuda\\sdp_utils.cpp:455.)\n",
      "  attn_output = torch.nn.functional.scaled_dot_product_attention(\n",
      "D:\\Anaconda\\lib\\site-packages\\pytorch_lightning\\trainer\\connectors\\data_connector.py:424: The 'train_dataloader' does not have many workers which may be a bottleneck. Consider increasing the value of the `num_workers` argument` to `num_workers=15` in the `DataLoader` to improve performance.\n"
     ]
    },
    {
     "name": "stdout",
     "output_type": "stream",
     "text": [
      "tensor([1977, 2011], device='cuda:0')\n",
      "Epoch 1: Val Loss: 0.9361706972122192\n",
      "tensor([ 906, 3639], device='cuda:0')\n",
      "tensor([1977, 2011], device='cuda:0')\n",
      "tensor([1513, 2424], device='cuda:0')\n",
      "tensor([2302, 1404], device='cuda:0')\n",
      "tensor([1266,  529], device='cuda:0')\n",
      "Epoch 1: Val Loss: 2.4512267112731934\n",
      "Epoch 1: Train Loss: 0.7173184156417847\n",
      "tensor([ 906, 3639], device='cuda:0')\n",
      "tensor([1977, 2011], device='cuda:0')\n",
      "tensor([1513, 2424], device='cuda:0')\n",
      "tensor([2302, 1404], device='cuda:0')\n",
      "tensor([1266,  529], device='cuda:0')\n",
      "Epoch 2: Val Loss: 2.3600029945373535\n",
      "Epoch 2: Train Loss: 0.3913646638393402\n",
      "tensor([ 906, 3639], device='cuda:0')\n",
      "tensor([1977, 2011], device='cuda:0')\n",
      "tensor([1513, 2424], device='cuda:0')\n",
      "tensor([2302, 1404], device='cuda:0')\n",
      "tensor([1266,  529], device='cuda:0')\n",
      "Epoch 3: Val Loss: 2.317620038986206\n",
      "Epoch 3: Train Loss: 0.21483533084392548\n",
      "tensor([ 906, 3639], device='cuda:0')\n",
      "tensor([1977, 2011], device='cuda:0')\n",
      "tensor([1513, 2424], device='cuda:0')\n",
      "tensor([2302, 1404], device='cuda:0')\n",
      "tensor([1266,  529], device='cuda:0')\n",
      "Epoch 4: Val Loss: 2.299961566925049\n",
      "Epoch 4: Train Loss: 0.13959920406341553\n",
      "tensor([ 906, 3639], device='cuda:0')\n",
      "tensor([1977, 2011], device='cuda:0')\n",
      "tensor([1513, 2424], device='cuda:0')\n",
      "tensor([2302, 1404], device='cuda:0')\n",
      "tensor([1266,  529], device='cuda:0')\n",
      "Epoch 5: Val Loss: 2.2899084091186523\n",
      "Epoch 5: Train Loss: 0.10530303418636322\n"
     ]
    },
    {
     "name": "stderr",
     "output_type": "stream",
     "text": [
      "`Trainer.fit` stopped: `max_epochs=5` reached.\n"
     ]
    },
    {
     "name": "stdout",
     "output_type": "stream",
     "text": [
      "Epoch losses:\n",
      "Epoch 1: Train Loss: 0.7173184156417847, Val Loss: 0.9361706972122192\n",
      "Epoch 2: Train Loss: 0.3913646638393402, Val Loss: 2.4512267112731934\n",
      "Epoch 3: Train Loss: 0.21483533084392548, Val Loss: 2.3600029945373535\n",
      "Epoch 4: Train Loss: 0.13959920406341553, Val Loss: 2.317620038986206\n",
      "Epoch 5: Train Loss: 0.10530303418636322, Val Loss: 2.299961566925049\n"
     ]
    }
   ],
   "source": [
    "\n",
    "class TwoTowerModel(pl.LightningModule):\n",
    "    def __init__(self, user_model_name, item_model_name, embedding_size=384):\n",
    "        super(TwoTowerModel, self).__init__()\n",
    "        self.user_model = SentenceTransformer(user_model_name)\n",
    "        self.item_model = SentenceTransformer(item_model_name)\n",
    "\n",
    "        self.user_fc = nn.Linear(embedding_size, embedding_size)\n",
    "        self.item_fc = nn.Linear(embedding_size, embedding_size)\n",
    "\n",
    "        self.criterion = nn.MSELoss()\n",
    "        self.epoch_losses = {'train_loss': [], 'val_loss': []}\n",
    "\n",
    "    def forward(self, user_text, item_text, step):\n",
    "        if step == 'train':\n",
    "            item_text = [train_item_texts[train_item_id_to_idx.get(item_text)] for item_text in item_text.tolist()]\n",
    "        elif step == 'val':\n",
    "            item_text = [val_item_texts[val_item_id_to_idx.get(item_text)] for item_text in item_text.tolist()]\n",
    "        else:\n",
    "            item_text = [test_item_texts[test_item_id_to_idx.get(item_text)] for item_text in item_text.tolist()]\n",
    "\n",
    "        # print(user_text, item_text)\n",
    "        user_embedding = self.user_model.encode(user_text, convert_to_tensor=True)\n",
    "        item_embedding = self.item_model.encode(item_text, convert_to_tensor=True)\n",
    "\n",
    "        user_output = self.user_fc(user_embedding)\n",
    "        item_output = self.item_fc(item_embedding)\n",
    "        # Log embeddings\n",
    "        # self.user_emb = user_embedding\n",
    "        # self.item_emb = item_embedding\n",
    "        # print(\"User Embedding:\", user_embedding)\n",
    "        # print(\"Item Embedding:\", item_embedding)\n",
    "        # print(\"User Output:\", user_output.size())\n",
    "        # print(\"Item Output:\", item_output.size())\n",
    "        # Compute the dot product for each user-item pair in the batch\n",
    "        dot_product = torch.sum(user_output * item_output, dim=1)\n",
    "        # print(\"Dot Product:\", dot_product)\n",
    "\n",
    "        return dot_product\n",
    "\n",
    "    def training_step(self, batch, batch_idx):\n",
    "        user_texts = batch['user']\n",
    "        item_texts = batch['item']\n",
    "        ratings = batch['rating'].float()\n",
    "\n",
    "        preds = self(user_texts, item_texts, 'train')\n",
    "        preds = 4 * torch.sigmoid(preds) + 1\n",
    "        # print(user_texts, item_texts, preds, ratings)\n",
    "        loss = self.criterion(preds, ratings)\n",
    "        self.log('train_loss', loss)\n",
    "        return loss\n",
    "\n",
    "    def validation_step(self, batch, batch_idx):\n",
    "        user_texts = batch['user']\n",
    "        item_texts = batch['item']\n",
    "        ratings = batch['rating'].float()\n",
    "        print(item_texts)\n",
    "        preds = self(user_texts, item_texts, 'val')\n",
    "        preds = 4 * torch.sigmoid(preds) + 1\n",
    "\n",
    "        loss = self.criterion(preds, ratings)\n",
    "        self.log('val_loss', loss)\n",
    "        return loss\n",
    "\n",
    "    def configure_optimizers(self):\n",
    "        return optim.Adam(self.parameters(), lr=1e-5)\n",
    "\n",
    "class PrintLossesCallback(Callback):\n",
    "    def on_train_epoch_end(self, trainer, pl_module):\n",
    "        train_loss = trainer.callback_metrics.get('train_loss')\n",
    "        if train_loss is not None:\n",
    "            pl_module.epoch_losses['train_loss'].append(train_loss.item())\n",
    "            print(f\"Epoch {trainer.current_epoch + 1}: Train Loss: {train_loss.item()}\")\n",
    "\n",
    "    def on_validation_epoch_end(self, trainer, pl_module):\n",
    "        val_loss = trainer.callback_metrics.get('val_loss')\n",
    "        if val_loss is not None:\n",
    "            pl_module.epoch_losses['val_loss'].append(val_loss.item())\n",
    "            print(f\"Epoch {trainer.current_epoch + 1}: Val Loss: {val_loss.item()}\")\n",
    "\n",
    "# Example usage\n",
    "# users = [\"I love action movies\", \"Comedy movies are my favorite\"]\n",
    "# items = [\"An action-packed thriller\", \"A hilarious comedy\"]\n",
    "# ratings = torch.tensor([5.0, 4.0])\n",
    "\n",
    "train_loader = DataLoader(train_dataset, batch_size=2, drop_last=True)\n",
    "val_loader = DataLoader(val_dataset, batch_size=2, drop_last=True)  # For demonstration purposes, using the same data for validation\n",
    "\n",
    "model = TwoTowerModel(user_model_name='paraphrase-MiniLM-L6-v2', item_model_name='paraphrase-MiniLM-L6-v2')\n",
    "\n",
    "trainer = pl.Trainer(max_epochs=5, log_every_n_steps=1, callbacks=[PrintLossesCallback()], enable_progress_bar=False)\n",
    "trainer.fit(model, train_loader, val_loader)\n",
    "\n",
    "# Print losses after training completes\n",
    "print(\"Epoch losses:\")\n",
    "for epoch in range(trainer.max_epochs):\n",
    "    train_loss = model.epoch_losses['train_loss'][epoch] if epoch < len(model.epoch_losses['train_loss']) else 'N/A'\n",
    "    val_loss = model.epoch_losses['val_loss'][epoch] if epoch < len(model.epoch_losses['val_loss']) else 'N/A'\n",
    "    print(f\"Epoch {epoch + 1}: Train Loss: {train_loss}, Val Loss: {val_loss}\")\n"
   ],
   "metadata": {
    "collapsed": false,
    "ExecuteTime": {
     "start_time": "2024-07-12T18:02:06.398219Z",
     "end_time": "2024-07-12T18:02:21.402510Z"
    }
   }
  },
  {
   "cell_type": "code",
   "execution_count": 45,
   "outputs": [
    {
     "data": {
      "text/plain": "{'train_loss': [1.1349900960922241,\n  1.1209874153137207,\n  1.1229170560836792,\n  1.1273095607757568,\n  1.1311087608337402,\n  1.1337617635726929,\n  1.1353812217712402,\n  1.1362100839614868,\n  1.1364727020263672,\n  1.1363470554351807],\n 'val_loss': [1.5670127868652344,\n  1.1985464096069336,\n  1.1731033325195312,\n  1.16090726852417,\n  1.1534429788589478,\n  1.1482261419296265,\n  1.144281268119812,\n  1.1411384344100952,\n  1.1385533809661865,\n  1.13637375831604,\n  1.1345018148422241]}"
     },
     "execution_count": 45,
     "metadata": {},
     "output_type": "execute_result"
    }
   ],
   "source": [
    "model.epoch_losses"
   ],
   "metadata": {
    "collapsed": false,
    "ExecuteTime": {
     "start_time": "2024-07-12T01:47:42.551079Z",
     "end_time": "2024-07-12T01:47:42.573609Z"
    }
   }
  },
  {
   "cell_type": "code",
   "execution_count": null,
   "outputs": [],
   "source": [
    "{1579: 2028    1.934932\n",
    "589     1.828363\n",
    "2762    1.772296\n",
    "527     1.746241\n",
    "858     1.700419\n",
    "dtype: float64, 5627: 260     2.251319\n",
    "608     1.876114\n",
    "1270    1.820516\n",
    "480     1.663024\n",
    "1097    1.595977}"
   ],
   "metadata": {
    "collapsed": false
   }
  },
  {
   "cell_type": "code",
   "execution_count": null,
   "outputs": [],
   "source": [],
   "metadata": {
    "collapsed": false
   }
  },
  {
   "cell_type": "code",
   "execution_count": 47,
   "outputs": [],
   "source": [
    "def get_top_n_recommendations(user_text, model, item_dataset, n=5):\n",
    "    item_texts = [item_dataset[i] for i in range(len(item_dataset))]\n",
    "    item_texts= torch.tensor(item_texts)\n",
    "    preds = model.forward(user_text, item_texts, 'test')\n",
    "    preds = 4 * torch.sigmoid(preds) + 1\n",
    "    top_n_indices = torch.argsort(preds, descending=True)[:n]\n",
    "    top_n_items = [item_dataset[i] for i in top_n_indices]\n",
    "    top_n_scores = preds[top_n_indices]\n",
    "\n",
    "    top_n_series = pd.Series(data=top_n_scores.detach().numpy(), index=top_n_items)\n",
    "    return {top_n_series}\n"
   ],
   "metadata": {
    "collapsed": false,
    "ExecuteTime": {
     "start_time": "2024-07-12T18:32:45.413430Z",
     "end_time": "2024-07-12T18:32:45.426938Z"
    }
   }
  },
  {
   "cell_type": "code",
   "execution_count": 50,
   "outputs": [],
   "source": [
    "def get_top_n_recommendations(user_texts, user_ids, model, item_dataset, n=5):\n",
    "    recommendations = {}\n",
    "\n",
    "    for user_text, user_id in zip(user_texts, user_ids):\n",
    "        item_texts = [item_dataset[i] for i in range(len(item_dataset))]\n",
    "        item_texts = torch.tensor(item_texts)\n",
    "        preds = model.forward(user_text, item_texts, 'test')\n",
    "        preds = 4 * torch.sigmoid(preds) + 1\n",
    "        top_n_indices = torch.argsort(preds, descending=True)[:n]\n",
    "        top_n_items = [item_dataset[i] for i in top_n_indices]\n",
    "        top_n_scores = preds[top_n_indices]\n",
    "\n",
    "        top_n_series = pd.Series(data=top_n_scores.detach().numpy(), index=top_n_items)\n",
    "        recommendations[user_id] = top_n_series\n",
    "\n",
    "    return recommendations"
   ],
   "metadata": {
    "collapsed": false,
    "ExecuteTime": {
     "start_time": "2024-07-12T18:40:35.331529Z",
     "end_time": "2024-07-12T18:40:35.378842Z"
    }
   }
  },
  {
   "cell_type": "code",
   "execution_count": 52,
   "outputs": [
    {
     "data": {
      "text/plain": "{1: 2347    2.318550\n 364     2.222605\n 1327    2.192921\n 2005    2.169346\n 3408    1.947947\n dtype: float32}"
     },
     "execution_count": 52,
     "metadata": {},
     "output_type": "execute_result"
    }
   ],
   "source": [
    "# Example user text\n",
    "# user_text = \"profession: doctor [SEP] age range: 65-74 [SEP] gender: Male\"\n",
    "user_text = \"profession: scientist [SEP] age range: 75+ [SEP] gender: Male\"\n",
    "\n",
    "top_recommendations = get_top_n_recommendations(user_text, [1], model, random_item_ids, n=5)\n",
    "# top_recommendations = get_top_n_recommendations(user_text, model, movies, n=5)\n",
    "top_recommendations"
   ],
   "metadata": {
    "collapsed": false,
    "ExecuteTime": {
     "start_time": "2024-07-12T18:40:50.093553Z",
     "end_time": "2024-07-12T18:40:50.226491Z"
    }
   }
  },
  {
   "cell_type": "code",
   "execution_count": 49,
   "outputs": [
    {
     "data": {
      "text/plain": "2347    4.406095\n364     4.216607\n2005    4.097148\n1327    3.700044\n3379    3.631617\ndtype: float32"
     },
     "execution_count": 49,
     "metadata": {},
     "output_type": "execute_result"
    }
   ],
   "source": [
    "top_recommendations"
   ],
   "metadata": {
    "collapsed": false,
    "ExecuteTime": {
     "start_time": "2024-07-12T18:32:52.007113Z",
     "end_time": "2024-07-12T18:32:52.038758Z"
    }
   }
  },
  {
   "cell_type": "code",
   "execution_count": 13,
   "outputs": [
    {
     "data": {
      "text/plain": "['title: Against All Odds (1984) [SEP] genres: Romance',\n \"title: What's Eating Gilbert Grape (1993) [SEP] genres: Drama\",\n 'title: Pope of Greenwich Village, The (1984) [SEP] genres: Action',\n \"title: Goonies, The (1985) [SEP] genres: Adventure|Children's|Fantasy\",\n 'title: Amityville Horror, The (1979) [SEP] genres: Horror',\n 'title: Powder (1995) [SEP] genres: Drama|Sci-Fi',\n \"title: Lion King, The (1994) [SEP] genres: Animation|Children's|Musical\",\n 'title: Erin Brockovich (2000) [SEP] genres: Drama',\n 'title: On the Beach (1959) [SEP] genres: Drama',\n 'title: Mona Lisa (1986) [SEP] genres: Comedy|Thriller']"
     },
     "execution_count": 13,
     "metadata": {},
     "output_type": "execute_result"
    }
   ],
   "source": [
    "t_item_texts = [movie_features_dict[movieId] for movieId in random_item_ids]\n",
    "t_item_texts"
   ],
   "metadata": {
    "collapsed": false,
    "ExecuteTime": {
     "start_time": "2024-07-12T18:02:46.828287Z",
     "end_time": "2024-07-12T18:02:46.847960Z"
    }
   }
  },
  {
   "cell_type": "code",
   "execution_count": 14,
   "outputs": [],
   "source": [
    "# data = {\n",
    "#     \"User\": users,  # Repeating users to match the number of ratings\n",
    "#     \"Movie\": movies,\n",
    "#     \"Rating\": ratings\n",
    "# }\n",
    "data = {\n",
    "    \"User\": random_user_texts,  # Repeating users to match the number of ratings\n",
    "    \"Movie\": [f\"{item_id} {text}\" for item_id, text in zip(random_item_ids, t_item_texts)],\n",
    "    \"Rating\": random_ratings\n",
    "}\n"
   ],
   "metadata": {
    "collapsed": false,
    "ExecuteTime": {
     "start_time": "2024-07-12T18:02:53.456394Z",
     "end_time": "2024-07-12T18:02:53.486955Z"
    }
   }
  },
  {
   "cell_type": "code",
   "execution_count": 15,
   "outputs": [],
   "source": [
    "df = pd.DataFrame(data)\n"
   ],
   "metadata": {
    "collapsed": false,
    "ExecuteTime": {
     "start_time": "2024-07-12T18:02:54.494100Z",
     "end_time": "2024-07-12T18:02:54.515089Z"
    }
   }
  },
  {
   "cell_type": "code",
   "execution_count": 16,
   "outputs": [
    {
     "data": {
      "text/plain": "                                                User  \\\n0  occupation: executive/managerial [SEP] age: 25...   \n1  occupation: artist [SEP] age: 18-24 [SEP] gend...   \n2  occupation: college/grad student [SEP] age: 18...   \n3  occupation: customer service [SEP] age: 45-49 ...   \n4  occupation: academic/educator [SEP] age: 35-44...   \n5  occupation: self-employed [SEP] age: 25-34 [SE...   \n6  occupation: other or not specified [SEP] age: ...   \n7  occupation: college/grad student [SEP] age: 25...   \n8  occupation: writer [SEP] age: 50-55 [SEP] gend...   \n9  occupation: academic/educator [SEP] age: 35-44...   \n\n                                               Movie  Rating  \n0  3206 title: Against All Odds (1984) [SEP] genr...       2  \n1  337 title: What's Eating Gilbert Grape (1993) ...       3  \n2  2347 title: Pope of Greenwich Village, The (19...       5  \n3  2005 title: Goonies, The (1985) [SEP] genres: ...       3  \n4  1327 title: Amityville Horror, The (1979) [SEP...       3  \n5  24 title: Powder (1995) [SEP] genres: Drama|Sc...       3  \n6  364 title: Lion King, The (1994) [SEP] genres:...       4  \n7  3408 title: Erin Brockovich (2000) [SEP] genre...       5  \n8  3379 title: On the Beach (1959) [SEP] genres: ...       4  \n9  2349 title: Mona Lisa (1986) [SEP] genres: Com...       3  ",
      "text/html": "<div>\n<style scoped>\n    .dataframe tbody tr th:only-of-type {\n        vertical-align: middle;\n    }\n\n    .dataframe tbody tr th {\n        vertical-align: top;\n    }\n\n    .dataframe thead th {\n        text-align: right;\n    }\n</style>\n<table border=\"1\" class=\"dataframe\">\n  <thead>\n    <tr style=\"text-align: right;\">\n      <th></th>\n      <th>User</th>\n      <th>Movie</th>\n      <th>Rating</th>\n    </tr>\n  </thead>\n  <tbody>\n    <tr>\n      <th>0</th>\n      <td>occupation: executive/managerial [SEP] age: 25...</td>\n      <td>3206 title: Against All Odds (1984) [SEP] genr...</td>\n      <td>2</td>\n    </tr>\n    <tr>\n      <th>1</th>\n      <td>occupation: artist [SEP] age: 18-24 [SEP] gend...</td>\n      <td>337 title: What's Eating Gilbert Grape (1993) ...</td>\n      <td>3</td>\n    </tr>\n    <tr>\n      <th>2</th>\n      <td>occupation: college/grad student [SEP] age: 18...</td>\n      <td>2347 title: Pope of Greenwich Village, The (19...</td>\n      <td>5</td>\n    </tr>\n    <tr>\n      <th>3</th>\n      <td>occupation: customer service [SEP] age: 45-49 ...</td>\n      <td>2005 title: Goonies, The (1985) [SEP] genres: ...</td>\n      <td>3</td>\n    </tr>\n    <tr>\n      <th>4</th>\n      <td>occupation: academic/educator [SEP] age: 35-44...</td>\n      <td>1327 title: Amityville Horror, The (1979) [SEP...</td>\n      <td>3</td>\n    </tr>\n    <tr>\n      <th>5</th>\n      <td>occupation: self-employed [SEP] age: 25-34 [SE...</td>\n      <td>24 title: Powder (1995) [SEP] genres: Drama|Sc...</td>\n      <td>3</td>\n    </tr>\n    <tr>\n      <th>6</th>\n      <td>occupation: other or not specified [SEP] age: ...</td>\n      <td>364 title: Lion King, The (1994) [SEP] genres:...</td>\n      <td>4</td>\n    </tr>\n    <tr>\n      <th>7</th>\n      <td>occupation: college/grad student [SEP] age: 25...</td>\n      <td>3408 title: Erin Brockovich (2000) [SEP] genre...</td>\n      <td>5</td>\n    </tr>\n    <tr>\n      <th>8</th>\n      <td>occupation: writer [SEP] age: 50-55 [SEP] gend...</td>\n      <td>3379 title: On the Beach (1959) [SEP] genres: ...</td>\n      <td>4</td>\n    </tr>\n    <tr>\n      <th>9</th>\n      <td>occupation: academic/educator [SEP] age: 35-44...</td>\n      <td>2349 title: Mona Lisa (1986) [SEP] genres: Com...</td>\n      <td>3</td>\n    </tr>\n  </tbody>\n</table>\n</div>"
     },
     "execution_count": 16,
     "metadata": {},
     "output_type": "execute_result"
    }
   ],
   "source": [
    "df"
   ],
   "metadata": {
    "collapsed": false,
    "ExecuteTime": {
     "start_time": "2024-07-12T18:02:55.580813Z",
     "end_time": "2024-07-12T18:02:55.661475Z"
    }
   }
  },
  {
   "cell_type": "markdown",
   "source": [],
   "metadata": {
    "collapsed": false
   }
  },
  {
   "cell_type": "code",
   "execution_count": 17,
   "outputs": [],
   "source": [
    "user_text = \"profession: scientist [SEP] age range: 75+ [SEP] gender: Male\""
   ],
   "metadata": {
    "collapsed": false,
    "ExecuteTime": {
     "start_time": "2024-07-12T18:02:58.895017Z",
     "end_time": "2024-07-12T18:02:58.926288Z"
    }
   }
  },
  {
   "cell_type": "code",
   "execution_count": 18,
   "outputs": [
    {
     "data": {
      "text/plain": "[(2347, tensor(4.4061, grad_fn=<UnbindBackward0>)),\n (364, tensor(4.2166, grad_fn=<UnbindBackward0>)),\n (2005, tensor(4.0971, grad_fn=<UnbindBackward0>)),\n (1327, tensor(3.7000, grad_fn=<UnbindBackward0>)),\n (3379, tensor(3.6316, grad_fn=<UnbindBackward0>)),\n (24, tensor(3.5800, grad_fn=<UnbindBackward0>)),\n (3206, tensor(3.3498, grad_fn=<UnbindBackward0>)),\n (337, tensor(3.2846, grad_fn=<UnbindBackward0>)),\n (2349, tensor(3.1287, grad_fn=<UnbindBackward0>)),\n (3408, tensor(3.1109, grad_fn=<UnbindBackward0>))]"
     },
     "execution_count": 18,
     "metadata": {},
     "output_type": "execute_result"
    }
   ],
   "source": [
    "top_recommendations"
   ],
   "metadata": {
    "collapsed": false,
    "ExecuteTime": {
     "start_time": "2024-07-12T18:02:59.491760Z",
     "end_time": "2024-07-12T18:02:59.523002Z"
    }
   }
  },
  {
   "cell_type": "code",
   "execution_count": 53,
   "outputs": [
    {
     "name": "stdout",
     "output_type": "stream",
     "text": [
      "NDCG@5: 0.3869\n",
      "MRR@5: 0.2000\n",
      "HR@5: 1.0000\n"
     ]
    }
   ],
   "source": [
    "from evaluator import EvaluateMetrics\n",
    "n=5\n",
    "# Evaluate the recommendations\n",
    "evaluator = EvaluateMetrics(test_ratings)\n",
    "evaluation_results = evaluator.evaluate_recommendations(top_recommendations, k=n)\n",
    "\n",
    "print(f\"NDCG@{n}: {evaluation_results['NDCG@k']:.4f}\")\n",
    "print(f\"MRR@{n}: {evaluation_results['MRR@k']:.4f}\")\n",
    "print(f\"HR@{n}: {evaluation_results['HR@k']:.4f}\")"
   ],
   "metadata": {
    "collapsed": false,
    "ExecuteTime": {
     "start_time": "2024-07-12T18:41:12.114813Z",
     "end_time": "2024-07-12T18:41:12.171819Z"
    }
   }
  },
  {
   "cell_type": "code",
   "execution_count": 104,
   "outputs": [
    {
     "data": {
      "text/plain": "tensor([[ 8.3276e-01,  8.2051e-02,  3.0309e-01,  2.1005e-01, -3.0842e-01,\n          8.1448e-01, -9.2465e-02, -3.7289e-01,  8.7239e-02,  6.1374e-01,\n         -1.7548e-01, -2.6898e-01,  1.0095e-01,  2.0776e-02, -2.9030e-02,\n          3.1094e-01, -1.5206e-01, -1.8223e-01,  7.2254e-01,  2.6763e-01,\n         -1.7961e-01,  2.1395e-01,  2.5993e-01, -6.7496e-01,  5.0078e-01,\n         -6.1833e-01, -2.8589e-01,  1.1161e-01, -2.1280e-01, -2.1083e-01,\n          3.3463e-01,  4.1669e-01,  4.4386e-01, -1.3550e-02,  5.8307e-02,\n         -1.3067e-01, -1.0299e+00,  1.5860e-01, -2.2157e-02,  3.0831e-01,\n         -4.3915e-02, -7.7502e-02, -1.4880e-01, -6.4330e-01, -1.1070e-02,\n          1.3839e-01, -1.5811e-01, -4.4167e-04,  1.1641e-01,  3.9993e-01,\n         -9.0280e-01, -6.9036e-01,  1.4046e-01,  3.3495e-01, -3.1607e-01,\n         -4.2657e-01,  7.9768e-03,  2.0949e-02,  2.9584e-01,  6.0345e-02,\n         -2.0942e-01,  3.5031e-01, -7.5630e-01, -7.8596e-02,  1.1698e-02,\n          1.8370e-01,  2.7463e-01, -2.2647e-01, -5.1463e-01, -2.2512e-01,\n          7.8242e-01,  3.2106e-02, -7.7322e-01,  2.1582e-01, -2.1292e-01,\n         -2.5159e-01,  2.5032e-01, -2.8854e-01, -2.9649e-01, -5.1485e-01,\n         -1.4622e-01, -1.8560e-01,  5.5014e-01,  4.3860e-01, -5.3643e-02,\n         -1.4040e-01, -1.0401e-01,  5.1303e-01, -4.3075e-01,  2.8474e-02,\n         -7.3643e-01,  4.2515e-01,  9.4882e-02,  1.3320e-01,  4.3929e-01,\n         -1.0217e-01, -4.9056e-01,  2.9555e-02, -2.4031e-02,  1.9549e-01,\n         -3.5877e-01,  2.4292e-01, -6.0599e-01,  1.3100e-01, -1.9176e-01,\n          2.3639e-01,  3.6063e-02,  9.3734e-02, -6.1209e-01,  9.6297e-02,\n         -2.7773e-01, -3.3263e-01, -6.0056e-01, -8.8490e-02,  7.3837e-01,\n         -2.4242e-01, -3.1456e-02,  5.3593e-01,  6.0033e-01, -2.5884e-01,\n          2.1452e-02,  3.4959e-01, -3.4327e-01, -8.9604e-02, -7.7647e-01,\n         -1.6773e-02,  3.1348e-01,  4.6392e-01, -1.0160e-01, -2.2815e-01,\n          3.0520e-01,  5.1015e-01, -1.7305e-01,  2.9503e-01,  4.0743e-01,\n         -1.4123e-01, -8.1605e-02, -8.8577e-02,  5.1438e-01, -2.0590e-01,\n          4.3643e-02,  3.8097e-01,  1.1231e-01,  8.8909e-01,  7.8547e-01,\n         -2.6942e-01, -5.8359e-02,  1.8940e-01, -1.9058e-01, -2.8994e-03,\n         -2.7281e-02, -9.1563e-02, -1.0460e-01,  1.3294e-01,  3.1341e-01,\n         -3.1787e-01,  3.6173e-01,  1.6428e-01, -7.0287e-01,  2.8113e-01,\n          4.3499e-01, -3.8832e-01, -1.1706e-01, -7.4676e-01,  7.5036e-02,\n         -5.9869e-03,  4.9309e-01,  3.8180e-02,  2.0430e-01,  1.0100e-02,\n         -2.7976e-01, -5.6840e-02,  1.6210e-01,  5.9210e-01,  4.2477e-02,\n         -4.3092e-02, -5.1757e-01,  9.9156e-01, -3.9818e-01,  5.1095e-01,\n          7.0172e-02,  1.3745e-01, -6.8429e-02, -2.0156e-01,  1.0175e-01,\n         -9.5770e-02, -1.9969e-01, -1.8394e-01,  1.5755e-01,  6.6891e-01,\n          7.3555e-02, -9.3493e-03,  2.0358e-01,  1.6998e-01,  4.1351e-01,\n          1.0383e-01,  4.7893e-01,  1.3188e-01, -3.8274e-01, -4.0721e-02,\n         -1.5471e-01,  1.1400e-01,  2.9865e-01, -4.6097e-01,  1.9142e-01,\n         -4.1908e-01,  7.3672e-01,  7.6209e-01,  2.0649e-01,  9.7470e-01,\n         -4.0581e-01, -6.6050e-01, -3.1794e-01, -2.7418e-01,  1.5252e-01,\n         -3.4661e-01, -6.1580e-02,  2.4481e-01, -1.2935e-01,  3.4678e-01,\n         -4.1878e-01,  2.2551e-01, -2.0526e-01, -3.5731e-01,  8.0298e-02,\n         -3.7236e-01, -2.6381e-01,  5.5163e-01,  1.5273e-01, -1.1511e-01,\n          5.7473e-02,  3.1080e-01,  7.2497e-01,  2.8659e-01, -3.1237e-01,\n         -7.5698e-01,  1.7696e-01, -2.3001e-01, -3.4688e-01, -1.1398e-01,\n         -1.1247e-01,  2.4838e-01, -3.0356e-01, -6.6134e-02, -6.2495e-01,\n          7.7487e-01,  8.3242e-02,  2.8060e-02,  7.4994e-02,  3.6826e-01,\n         -1.6825e-01, -3.8060e-01,  6.4771e-02,  6.1730e-01, -2.5861e-01,\n         -5.0922e-01,  4.3064e-02, -2.4058e-01,  2.1639e-01,  1.0362e-01,\n         -1.4789e-01, -3.0424e-01,  1.6454e-01,  2.1495e-02,  6.5893e-02,\n          3.1358e-01,  1.1120e-01, -6.5640e-02, -5.3546e-01, -2.4717e-01,\n         -5.5412e-01,  2.1726e-01,  4.3570e-01, -3.0521e-02, -2.0005e-01,\n         -9.6223e-02,  1.6250e-01, -6.2729e-01, -1.2445e-01, -9.2624e-01,\n          5.4763e-02, -4.6641e-02, -4.5645e-01,  1.1164e+00,  1.8519e-01,\n          3.7379e-01, -1.0182e-01, -1.5513e-01, -9.5553e-02,  4.1599e-01,\n         -2.8443e-01,  4.5367e-01, -4.4578e-01,  1.9917e-01,  2.1698e-01,\n          2.4812e-01, -2.2679e-01,  5.1939e-01, -5.5082e-01, -4.3584e-03,\n          8.5715e-02,  2.9225e-01, -6.9190e-02, -4.6007e-01,  8.9400e-02,\n         -1.6486e-01, -1.0937e-01,  7.5504e-01, -4.9099e-01,  6.8818e-01,\n         -3.3294e-01, -4.7048e-01, -1.9973e-01, -1.2757e-01,  3.5124e-01,\n         -4.1181e-01,  1.1270e-02, -6.3155e-01, -2.6879e-01, -2.4380e-01,\n         -3.2979e-01, -3.0511e-03,  4.0776e-01, -3.6300e-02, -2.0751e-02,\n          8.4362e-01,  1.1595e-01, -3.3513e-01, -2.6797e-01,  3.6880e-01,\n          4.5429e-01, -3.3696e-01,  9.6582e-01,  2.2910e-01,  5.0438e-01,\n         -8.8814e-01,  1.3297e-01, -1.3468e-01, -3.0484e-02, -5.2739e-01,\n          8.9115e-01, -1.7289e-01,  2.4072e-02, -3.8473e-01, -4.8479e-01,\n          2.8879e-01,  4.7816e-01,  1.6866e-01, -9.9530e-01,  7.5668e-02,\n          7.7367e-01,  3.7261e-01, -2.3590e-01,  2.3689e-01,  3.3994e-01,\n         -7.7163e-01, -2.3755e-01,  7.1955e-02, -8.0450e-01, -3.2059e-02,\n         -3.4371e-01, -1.1443e-01,  1.9465e-03,  1.5047e-01, -1.9185e-01,\n         -2.1149e-01,  7.3609e-01, -1.1158e-01, -3.5945e-01,  4.8769e-01,\n          2.5681e-02, -1.5025e-01,  4.2485e-01, -4.3595e-01,  2.7902e-01,\n          3.9096e-02,  4.0814e-01,  5.6609e-01, -2.6718e-01,  1.0508e-01,\n          6.2215e-01, -5.7828e-01,  2.0234e-01, -8.7792e-02]], device='cuda:0')"
     },
     "execution_count": 104,
     "metadata": {},
     "output_type": "execute_result"
    }
   ],
   "source": [
    "model.user_emb"
   ],
   "metadata": {
    "collapsed": false,
    "ExecuteTime": {
     "start_time": "2024-07-11T18:07:24.815637Z",
     "end_time": "2024-07-11T18:07:24.842815Z"
    }
   }
  },
  {
   "cell_type": "code",
   "execution_count": 105,
   "outputs": [
    {
     "data": {
      "text/plain": "tensor([[ 3.8231e-02, -5.1786e-01,  2.8932e-01, -6.5171e-02, -2.2142e-01,\n          4.8638e-01, -3.7634e-01, -1.0395e-03,  5.1911e-02,  2.2404e-01,\n          1.9158e-01, -1.5225e-01, -6.5987e-01,  3.5734e-02,  1.8200e-01,\n         -1.5093e-01,  4.0238e-01,  6.6269e-02,  6.9296e-01,  5.6623e-01,\n          1.0681e-01,  6.3442e-01,  2.1215e-01, -6.2358e-01,  1.9043e-01,\n         -5.2030e-01,  1.6891e-01,  3.1781e-01, -6.8459e-01, -1.2312e-01,\n          4.7328e-01,  4.6238e-02, -2.1466e-01,  5.2682e-02,  1.6736e-01,\n          1.9360e-01,  3.4173e-01,  2.5968e-01,  2.0081e-01, -5.5312e-01,\n         -3.8487e-01,  2.2561e-01,  1.7053e-01,  3.6520e-01, -2.2282e-01,\n         -1.8844e-01, -3.3730e-01, -5.5030e-01,  5.9279e-01,  2.9978e-01,\n         -6.6722e-01, -1.8076e-01, -3.6294e-01,  1.3673e-01,  6.3215e-01,\n         -4.3464e-02,  1.1103e-01,  3.4903e-01,  9.4543e-02,  1.7410e-01,\n          2.7457e-01, -1.4252e-01, -6.0077e-01,  1.5249e-01,  1.1750e-01,\n         -4.0101e-01,  1.4326e-02,  4.5923e-01, -8.4205e-01, -3.7340e-01,\n         -4.1628e-01,  4.5180e-03,  1.3433e-01,  5.6374e-02, -2.7356e-01,\n          3.9423e-01, -2.9877e-01, -3.8818e-01,  2.9713e-02, -1.2057e-01,\n         -6.3025e-01, -5.4156e-01,  1.4398e-01,  3.8124e-01, -7.5380e-01,\n          4.2977e-01,  3.0990e-01, -1.5271e-01, -8.6344e-02,  1.5442e-01,\n         -4.6243e-01, -9.6447e-02,  6.0254e-01,  4.7526e-01, -1.6289e-01,\n         -1.5551e-02, -3.2029e-01, -2.1506e-01,  2.1102e-02,  4.2586e-02,\n          1.1702e-01,  2.3820e-01, -6.0345e-02,  2.3917e-01,  3.3010e-01,\n          1.1153e-01,  6.4926e-01, -1.8130e-01,  5.8967e-02, -1.7923e-01,\n          3.5043e-01, -2.0742e-01, -4.8906e-01,  1.6604e-02,  5.6745e-01,\n          1.3757e-01,  1.0394e+00,  3.0643e-01,  2.3883e-01,  2.0641e-01,\n          5.3822e-01,  1.2327e-01, -7.1077e-02, -4.2443e-01, -5.6200e-01,\n         -3.8013e-01,  6.0274e-01,  3.8033e-01, -2.4641e-01, -2.0923e-01,\n         -5.0137e-01,  8.1783e-02,  6.9849e-01, -1.1977e-02,  5.4133e-02,\n          1.4470e-01, -1.7552e-01,  2.7974e-01,  8.8503e-02, -3.5871e-01,\n         -8.6784e-01,  2.2219e-01, -6.4845e-02, -3.9419e-02, -6.0128e-02,\n         -1.7356e-02, -2.3588e-01,  1.6398e-02, -2.5199e-01,  4.7205e-01,\n         -1.4878e-01, -7.7610e-01, -5.2373e-01, -2.6065e-01, -1.2428e-01,\n         -3.6359e-01,  8.9093e-01,  5.8673e-01, -8.4065e-02, -7.0372e-02,\n          7.7801e-04, -1.4344e-01,  8.5949e-01, -2.7010e-01, -1.3503e-01,\n         -4.7475e-01, -2.9782e-01,  8.6426e-01, -4.5525e-01, -1.7364e-01,\n         -2.7060e-01, -5.1022e-02, -8.1845e-02,  5.7810e-02,  1.4830e-01,\n         -1.3807e-01, -1.7887e-01,  5.9623e-01, -1.3536e-01,  3.0430e-01,\n          1.2679e-01,  7.1920e-02, -9.1067e-03,  2.6793e-02, -4.2147e-01,\n         -2.8994e-01,  4.7886e-01, -6.8390e-03, -1.9431e-01,  2.8042e-02,\n          2.7028e-01, -4.8044e-01, -1.3446e-01,  3.3741e-01,  2.0614e-01,\n          3.3128e-01,  3.6128e-01,  5.0105e-01, -7.3331e-01,  1.1303e-01,\n         -7.0101e-01, -1.1270e-01,  3.6880e-01, -2.9147e-01,  1.7816e-01,\n          4.6104e-02, -1.5979e-01, -1.7853e-01, -2.6835e-01,  1.8438e-01,\n         -4.3252e-01, -6.3367e-01, -4.4822e-01, -1.1716e-02, -3.1209e-01,\n          3.0631e-02, -1.2843e-01, -3.0671e-01, -2.9471e-01,  1.9864e-01,\n          4.1769e-03, -2.8389e-01, -3.7208e-02, -2.7449e-01,  1.9914e-01,\n         -4.4625e-01, -9.9967e-01,  2.4033e-01,  1.5302e-02,  4.6949e-01,\n         -1.0126e+00,  8.3718e-02,  5.6701e-02, -1.5220e-01, -7.5342e-01,\n          3.3318e-02, -1.1364e-01,  1.8711e-01, -4.5541e-01, -5.8133e-01,\n         -1.1984e-01, -2.3070e-01, -2.9448e-01,  2.8450e-01, -3.4987e-01,\n         -1.2997e-01, -9.4675e-02,  3.7338e-01,  5.4534e-01,  2.8377e-01,\n         -1.1207e-01,  3.8179e-01,  6.8833e-02,  3.4970e-01,  4.3208e-01,\n          6.6735e-02,  2.4664e-01, -2.6974e-01,  2.1185e-01,  2.5070e-01,\n          4.2037e-01,  2.4759e-01, -2.0753e-01, -1.5697e-01,  2.5453e-01,\n         -2.2543e-01, -2.5248e-01,  9.5425e-02, -8.4175e-01,  3.3501e-01,\n          2.0453e-01, -1.5683e-01,  4.8368e-01, -4.9605e-02, -2.0916e-01,\n          3.4120e-02, -1.5543e-01, -7.6688e-01, -4.0461e-01, -9.9144e-02,\n         -2.2988e-01, -1.8344e-01, -1.6611e-01,  5.6293e-01, -7.0715e-01,\n          5.7039e-01,  1.6977e-01, -1.5302e-01,  4.6152e-01,  2.7423e-02,\n          4.4765e-02, -1.4283e-01, -9.4789e-01, -1.2054e-01, -2.5617e-01,\n          4.1187e-01, -9.4846e-01,  4.7585e-01, -8.7417e-06,  3.4390e-01,\n          9.7270e-02, -2.3770e-01, -1.4507e-01,  8.3693e-01,  2.9839e-01,\n          3.6977e-01, -3.7313e-01,  4.9806e-01,  4.0347e-02,  2.8724e-01,\n          2.0200e-01,  6.9189e-01, -1.6340e-01,  2.0485e-01,  7.0457e-01,\n          2.1638e-01,  2.6341e-01, -1.7488e-01, -2.8141e-01, -1.4340e-01,\n         -3.6041e-01,  7.3524e-02, -6.1323e-02, -1.2873e-01, -1.7689e-01,\n          7.5052e-01,  2.0512e-01, -4.2993e-01, -1.3940e-01,  4.6180e-01,\n          2.6538e-02,  8.7086e-02,  1.3642e-01,  2.2311e-01, -2.3391e-01,\n          3.3285e-01,  2.9247e-01, -2.3715e-01, -1.2384e-01, -2.2707e-01,\n          5.3009e-01,  1.1000e-01,  3.9003e-01, -3.4800e-01, -3.5627e-01,\n          3.0742e-01, -2.6155e-01, -6.0291e-01,  5.7436e-02,  5.1627e-01,\n          6.9414e-01,  6.1418e-01, -2.4356e-01,  3.2885e-01, -5.7513e-01,\n          2.2540e-02,  1.4865e-01,  1.9866e-01, -1.5267e-01,  9.9654e-02,\n          3.2580e-01,  1.9786e-01,  7.7659e-02,  1.5922e-01,  2.3381e-01,\n          3.9121e-01,  5.1478e-01, -5.9549e-01, -3.1673e-01,  2.8588e-01,\n          6.8506e-01, -2.5710e-01,  1.1996e-01,  4.6705e-01,  8.0530e-02,\n          2.5235e-03,  2.8927e-01,  6.4907e-01, -1.0434e+00,  3.4585e-02,\n          5.8671e-01, -7.8835e-01, -2.8696e-02, -9.6221e-02]], device='cuda:0')"
     },
     "execution_count": 105,
     "metadata": {},
     "output_type": "execute_result"
    }
   ],
   "source": [
    "model.item_emb"
   ],
   "metadata": {
    "collapsed": false,
    "ExecuteTime": {
     "start_time": "2024-07-11T18:07:34.552949Z",
     "end_time": "2024-07-11T18:07:34.607159Z"
    }
   }
  },
  {
   "cell_type": "code",
   "execution_count": 107,
   "outputs": [
    {
     "name": "stdout",
     "output_type": "stream",
     "text": [
      "Dot product: 16.750228881835938\n"
     ]
    }
   ],
   "source": [
    "# Calculate the dot product\n",
    "dot_product = torch.sum(model.user_emb * model.item_emb, dim=1)\n",
    "\n",
    "print(\"Dot product:\", dot_product.item())"
   ],
   "metadata": {
    "collapsed": false,
    "ExecuteTime": {
     "start_time": "2024-07-11T18:09:32.890930Z",
     "end_time": "2024-07-11T18:09:32.901930Z"
    }
   }
  },
  {
   "cell_type": "code",
   "execution_count": null,
   "outputs": [],
   "source": [],
   "metadata": {
    "collapsed": false
   }
  }
 ],
 "metadata": {
  "kernelspec": {
   "display_name": "Python 3",
   "language": "python",
   "name": "python3"
  },
  "language_info": {
   "codemirror_mode": {
    "name": "ipython",
    "version": 2
   },
   "file_extension": ".py",
   "mimetype": "text/x-python",
   "name": "python",
   "nbconvert_exporter": "python",
   "pygments_lexer": "ipython2",
   "version": "2.7.6"
  }
 },
 "nbformat": 4,
 "nbformat_minor": 0
}
